{
 "cells": [
  {
   "cell_type": "markdown",
   "metadata": {},
   "source": [
    "# Q1: Write a python program to scrape data for “Data Analyst” Job position in “Bangalore” location. You have to scrape the job-title, job-location, company_name,experience_required. You have to scrape first 10 jobs data.\n"
   ]
  },
  {
   "cell_type": "code",
   "execution_count": 1,
   "metadata": {},
   "outputs": [],
   "source": [
    "#import required libraries\n",
    "import selenium\n",
    "from selenium import webdriver\n",
    "import pandas as pd\n",
    "import time"
   ]
  },
  {
   "cell_type": "code",
   "execution_count": 2,
   "metadata": {},
   "outputs": [],
   "source": [
    "#connect with the driver\n",
    "driver=webdriver.Chrome(r\"C://Chromedriver.exe\")"
   ]
  },
  {
   "cell_type": "code",
   "execution_count": 3,
   "metadata": {},
   "outputs": [],
   "source": [
    "#maximize the window\n",
    "driver.maximize_window()"
   ]
  },
  {
   "cell_type": "code",
   "execution_count": 3,
   "metadata": {},
   "outputs": [],
   "source": [
    "# step 1: visit the naukri.com page\n",
    "driver.get(\"https://www.naukri.com/\")"
   ]
  },
  {
   "cell_type": "code",
   "execution_count": 4,
   "metadata": {},
   "outputs": [],
   "source": [
    "#maximize the page\n",
    "driver.maximize_window()"
   ]
  },
  {
   "cell_type": "code",
   "execution_count": 5,
   "metadata": {},
   "outputs": [],
   "source": [
    "#step 2: enter skill as Data Analyst and location as Bangalore\n",
    "search_jobs=driver.find_element_by_id(\"qsb-keyword-sugg\" )\n",
    "search_jobs.send_keys(\"Data Analyst\")\n",
    "loc=driver.find_element_by_xpath(\"//input[@id='qsb-location-sugg']\")\n",
    "loc.send_keys(\"Bangalore\")"
   ]
  },
  {
   "cell_type": "code",
   "execution_count": 6,
   "metadata": {},
   "outputs": [],
   "source": [
    "#clicking the search button after entering the information\n",
    "search_button=driver.find_element_by_xpath(\"//*[@id='root']/div[3]/div[2]/section/div/form/div[3]\")\n",
    "search_button.click()"
   ]
  },
  {
   "cell_type": "code",
   "execution_count": 7,
   "metadata": {},
   "outputs": [
    {
     "data": {
      "text/plain": [
       "['Data Analyst', 'Data Analyst', 'Data Analyst']"
      ]
     },
     "execution_count": 7,
     "metadata": {},
     "output_type": "execute_result"
    }
   ],
   "source": [
    "#getting the job titles\n",
    "title=driver.find_elements_by_xpath(\"//a[@class='title fw500 ellipsis']\")\n",
    "#extracting the text \n",
    "title_list=[]\n",
    "for i in title:\n",
    "    title_list.append(i.text)\n",
    "title_list[0:3]"
   ]
  },
  {
   "cell_type": "code",
   "execution_count": 8,
   "metadata": {},
   "outputs": [
    {
     "data": {
      "text/plain": [
       "['Super India Tech Mark',\n",
       " 'tech mahindra ltd',\n",
       " 'CONDUENT BUSINESS SERVICES INDIA LLP']"
      ]
     },
     "execution_count": 8,
     "metadata": {},
     "output_type": "execute_result"
    }
   ],
   "source": [
    "#getting the company name\n",
    "company=driver.find_elements_by_xpath(\"//a[@class='subTitle ellipsis fleft']\")\n",
    "#extracting the text from above output\n",
    "company_list=[]\n",
    "for i in company:\n",
    "    company_list.append(i.text)\n",
    "company_list[0:3]"
   ]
  },
  {
   "cell_type": "code",
   "execution_count": 9,
   "metadata": {},
   "outputs": [
    {
     "data": {
      "text/plain": [
       "['Bangalore/Bengaluru(Devalapur)',\n",
       " 'Bangalore/Bengaluru',\n",
       " 'Bangalore/Bengaluru']"
      ]
     },
     "execution_count": 9,
     "metadata": {},
     "output_type": "execute_result"
    }
   ],
   "source": [
    "#getting the locations\n",
    "location=driver.find_elements_by_xpath(\"//li[@class='fleft grey-text br2 placeHolderLi location']\")\n",
    "#extracting the text from above output\n",
    "location_list=[]\n",
    "for i in location:\n",
    "    location_list.append(i.text)\n",
    "location_list[0:3]"
   ]
  },
  {
   "cell_type": "code",
   "execution_count": 10,
   "metadata": {},
   "outputs": [
    {
     "data": {
      "text/plain": [
       "['0-2 Yrs', '4-8 Yrs', '1-2 Yrs']"
      ]
     },
     "execution_count": 10,
     "metadata": {},
     "output_type": "execute_result"
    }
   ],
   "source": [
    "#getting the experience\n",
    "exp=driver.find_elements_by_xpath(\"//li[@class='fleft grey-text br2 placeHolderLi experience']\")\n",
    "#extracting the text from above output\n",
    "exp_list=[]\n",
    "for i in exp:\n",
    "    exp_list.append(i.text)\n",
    "exp_list[0:3]"
   ]
  },
  {
   "cell_type": "code",
   "execution_count": 11,
   "metadata": {},
   "outputs": [
    {
     "name": "stdout",
     "output_type": "stream",
     "text": [
      "20 20 20 20\n"
     ]
    }
   ],
   "source": [
    "#checking the lengths\n",
    "print(len(title_list),len(exp_list),len(company_list),len(location_list))"
   ]
  },
  {
   "cell_type": "code",
   "execution_count": 12,
   "metadata": {},
   "outputs": [
    {
     "data": {
      "text/html": [
       "<div>\n",
       "<style scoped>\n",
       "    .dataframe tbody tr th:only-of-type {\n",
       "        vertical-align: middle;\n",
       "    }\n",
       "\n",
       "    .dataframe tbody tr th {\n",
       "        vertical-align: top;\n",
       "    }\n",
       "\n",
       "    .dataframe thead th {\n",
       "        text-align: right;\n",
       "    }\n",
       "</style>\n",
       "<table border=\"1\" class=\"dataframe\">\n",
       "  <thead>\n",
       "    <tr style=\"text-align: right;\">\n",
       "      <th></th>\n",
       "      <th>Title</th>\n",
       "      <th>Company</th>\n",
       "      <th>Location</th>\n",
       "      <th>Experience</th>\n",
       "    </tr>\n",
       "  </thead>\n",
       "  <tbody>\n",
       "    <tr>\n",
       "      <th>0</th>\n",
       "      <td>Data Analyst</td>\n",
       "      <td>Super India Tech Mark</td>\n",
       "      <td>Bangalore/Bengaluru(Devalapur)</td>\n",
       "      <td>0-2 Yrs</td>\n",
       "    </tr>\n",
       "    <tr>\n",
       "      <th>1</th>\n",
       "      <td>Data Analyst</td>\n",
       "      <td>tech mahindra ltd</td>\n",
       "      <td>Bangalore/Bengaluru</td>\n",
       "      <td>4-8 Yrs</td>\n",
       "    </tr>\n",
       "    <tr>\n",
       "      <th>2</th>\n",
       "      <td>Data Analyst</td>\n",
       "      <td>CONDUENT BUSINESS SERVICES INDIA LLP</td>\n",
       "      <td>Bangalore/Bengaluru</td>\n",
       "      <td>1-2 Yrs</td>\n",
       "    </tr>\n",
       "    <tr>\n",
       "      <th>3</th>\n",
       "      <td>Data Analyst</td>\n",
       "      <td>GlaxoSmithKline Pharmaceuticals Limited</td>\n",
       "      <td>Bangalore/Bengaluru</td>\n",
       "      <td>2-7 Yrs</td>\n",
       "    </tr>\n",
       "    <tr>\n",
       "      <th>4</th>\n",
       "      <td>Business Data Analyst - MIS &amp; Reporting</td>\n",
       "      <td>INTERTRUST GROUP</td>\n",
       "      <td>Mumbai, Bangalore/Bengaluru</td>\n",
       "      <td>3-7 Yrs</td>\n",
       "    </tr>\n",
       "    <tr>\n",
       "      <th>5</th>\n",
       "      <td>Data Analyst</td>\n",
       "      <td>Xiaomi</td>\n",
       "      <td>Bangalore/Bengaluru</td>\n",
       "      <td>2-6 Yrs</td>\n",
       "    </tr>\n",
       "    <tr>\n",
       "      <th>6</th>\n",
       "      <td>Inviting Business Analyst –Data Science and In...</td>\n",
       "      <td>GENPACT India Private Limited</td>\n",
       "      <td>Bangalore/Bengaluru</td>\n",
       "      <td>0-4 Yrs</td>\n",
       "    </tr>\n",
       "    <tr>\n",
       "      <th>7</th>\n",
       "      <td>Hiring For Data Analyst</td>\n",
       "      <td>Concentrix Daksh Services India Private Limited.</td>\n",
       "      <td>Hyderabad/Secunderabad, Pune, Chennai, Bangalo...</td>\n",
       "      <td>2-7 Yrs</td>\n",
       "    </tr>\n",
       "    <tr>\n",
       "      <th>8</th>\n",
       "      <td>Senior Data Analyst</td>\n",
       "      <td>Cerner</td>\n",
       "      <td>Bangalore/Bengaluru</td>\n",
       "      <td>3-5 Yrs</td>\n",
       "    </tr>\n",
       "    <tr>\n",
       "      <th>9</th>\n",
       "      <td>Senior Data Analyst</td>\n",
       "      <td>Cerner Corporation</td>\n",
       "      <td>Bangalore/Bengaluru</td>\n",
       "      <td>4-9 Yrs</td>\n",
       "    </tr>\n",
       "  </tbody>\n",
       "</table>\n",
       "</div>"
      ],
      "text/plain": [
       "                                               Title  \\\n",
       "0                                       Data Analyst   \n",
       "1                                       Data Analyst   \n",
       "2                                       Data Analyst   \n",
       "3                                       Data Analyst   \n",
       "4            Business Data Analyst - MIS & Reporting   \n",
       "5                                       Data Analyst   \n",
       "6  Inviting Business Analyst –Data Science and In...   \n",
       "7                            Hiring For Data Analyst   \n",
       "8                                Senior Data Analyst   \n",
       "9                                Senior Data Analyst   \n",
       "\n",
       "                                            Company  \\\n",
       "0                             Super India Tech Mark   \n",
       "1                                 tech mahindra ltd   \n",
       "2              CONDUENT BUSINESS SERVICES INDIA LLP   \n",
       "3           GlaxoSmithKline Pharmaceuticals Limited   \n",
       "4                                  INTERTRUST GROUP   \n",
       "5                                            Xiaomi   \n",
       "6                     GENPACT India Private Limited   \n",
       "7  Concentrix Daksh Services India Private Limited.   \n",
       "8                                            Cerner   \n",
       "9                                Cerner Corporation   \n",
       "\n",
       "                                            Location Experience  \n",
       "0                     Bangalore/Bengaluru(Devalapur)    0-2 Yrs  \n",
       "1                                Bangalore/Bengaluru    4-8 Yrs  \n",
       "2                                Bangalore/Bengaluru    1-2 Yrs  \n",
       "3                                Bangalore/Bengaluru    2-7 Yrs  \n",
       "4                        Mumbai, Bangalore/Bengaluru    3-7 Yrs  \n",
       "5                                Bangalore/Bengaluru    2-6 Yrs  \n",
       "6                                Bangalore/Bengaluru    0-4 Yrs  \n",
       "7  Hyderabad/Secunderabad, Pune, Chennai, Bangalo...    2-7 Yrs  \n",
       "8                                Bangalore/Bengaluru    3-5 Yrs  \n",
       "9                                Bangalore/Bengaluru    4-9 Yrs  "
      ]
     },
     "execution_count": 12,
     "metadata": {},
     "output_type": "execute_result"
    }
   ],
   "source": [
    "#creating a dataframe with first 10 jobs\n",
    "df=pd.DataFrame({'Title':title_list[0:10],\n",
    "                'Company':company_list[0:10],\n",
    "                'Location':location_list[0:10],\n",
    "                'Experience':exp_list[0:10]})\n",
    "df"
   ]
  },
  {
   "cell_type": "markdown",
   "metadata": {},
   "source": [
    "# Q2: Write a python program to scrape data for “Data Scientist” Job position in “Bangalore” location. \n",
    "You have to scrape the job-title, job-location,company_name, full job-description. You have to scrape first 10 jobs data."
   ]
  },
  {
   "cell_type": "code",
   "execution_count": 15,
   "metadata": {},
   "outputs": [],
   "source": [
    "#pass page url\n",
    "driver.get(\"https://www.naukri.com/\")"
   ]
  },
  {
   "cell_type": "code",
   "execution_count": null,
   "metadata": {},
   "outputs": [],
   "source": [
    "#maximize chrome window\n",
    "driver.maximize_window()"
   ]
  },
  {
   "cell_type": "code",
   "execution_count": 16,
   "metadata": {},
   "outputs": [],
   "source": [
    "#pass the keyword as data scientist\n",
    "skill=driver.find_element_by_id(\"qsb-keyword-sugg\")\n",
    "skill.send_keys(\"Data Scientist\")\n",
    "\n",
    "#pass bangalore as location\n",
    "loc=driver.find_element_by_id(\"qsb-location-sugg\")\n",
    "loc.send_keys(\"Bangalore\")"
   ]
  },
  {
   "cell_type": "code",
   "execution_count": 17,
   "metadata": {},
   "outputs": [],
   "source": [
    "#click on the search button\n",
    "search_button=driver.find_element_by_xpath(\"//div[@class='search-btn']\")\n",
    "search_button.click()"
   ]
  },
  {
   "cell_type": "code",
   "execution_count": 18,
   "metadata": {},
   "outputs": [
    {
     "data": {
      "text/plain": [
       "['Data Scientist',\n",
       " 'Opportunity For Data Scientist Internship - Bengaluru',\n",
       " 'Data Scientist/ Analyst',\n",
       " 'Data Scientist - Python/ MATLAB/ Machine Learning Algorithms']"
      ]
     },
     "execution_count": 18,
     "metadata": {},
     "output_type": "execute_result"
    }
   ],
   "source": [
    "#job titles:\n",
    "job_title=driver.find_elements_by_xpath(\"//a[@class='title fw500 ellipsis']\")\n",
    "job_title_list=[]\n",
    "for i in job_title:\n",
    "    job_title_list.append(i.text)\n",
    "job_title_list[0:4]"
   ]
  },
  {
   "cell_type": "code",
   "execution_count": 19,
   "metadata": {},
   "outputs": [
    {
     "data": {
      "text/plain": [
       "['CronJ IT Technologies Private Limited',\n",
       " 'Corner Stone Solutions',\n",
       " 'Becton Dickinson India Pvt. Ltd',\n",
       " 'Wrackle Technologies Pvt Ltd']"
      ]
     },
     "execution_count": 19,
     "metadata": {},
     "output_type": "execute_result"
    }
   ],
   "source": [
    "#company\n",
    "company=driver.find_elements_by_xpath(\"//a[@class='subTitle ellipsis fleft']\")\n",
    "\n",
    "company_list=[]\n",
    "for i in company:\n",
    "    company_list.append(i.text)\n",
    "company_list[0:4]"
   ]
  },
  {
   "cell_type": "code",
   "execution_count": 20,
   "metadata": {},
   "outputs": [
    {
     "data": {
      "text/plain": [
       "['Bangalore/Bengaluru', 'Bangalore/Bengaluru', 'Bangalore/Bengaluru']"
      ]
     },
     "execution_count": 20,
     "metadata": {},
     "output_type": "execute_result"
    }
   ],
   "source": [
    "#location\n",
    "location=driver.find_elements_by_xpath(\"//li[@class='fleft grey-text br2 placeHolderLi location']\")\n",
    "\n",
    "location_list=[]\n",
    "for i in location:\n",
    "    location_list.append(i.text)\n",
    "location_list[0:3]"
   ]
  },
  {
   "cell_type": "code",
   "execution_count": 21,
   "metadata": {},
   "outputs": [
    {
     "data": {
      "text/plain": [
       "['https://www.naukri.com/job-listings-data-scientist-cronj-it-technologies-private-limited-bangalore-bengaluru-0-to-1-years-310321002339?src=jobsearchDesk&sid=16171779533396484&xp=1&px=1',\n",
       " 'https://www.naukri.com/job-listings-opportunity-for-data-scientist-internship-bengaluru-corner-stone-solutions-bangalore-bengaluru-0-to-1-years-240620007489?src=jobsearchDesk&sid=16171779533396484&xp=2&px=1']"
      ]
     },
     "execution_count": 21,
     "metadata": {},
     "output_type": "execute_result"
    }
   ],
   "source": [
    "#links to full description\n",
    "links=driver.find_elements_by_xpath(\"//a[@class='title fw500 ellipsis']\")\n",
    "\n",
    "link_list=[]\n",
    "for i in links:\n",
    "    link_list.append(i.get_attribute(\"href\"))\n",
    "link_list[0:2]"
   ]
  },
  {
   "cell_type": "code",
   "execution_count": 22,
   "metadata": {},
   "outputs": [
    {
     "name": "stdout",
     "output_type": "stream",
     "text": [
      "20 20 20 20\n"
     ]
    }
   ],
   "source": [
    "print(len(job_title_list),len(company_list),len(location_list),len(link_list))"
   ]
  },
  {
   "cell_type": "code",
   "execution_count": 23,
   "metadata": {},
   "outputs": [
    {
     "data": {
      "text/plain": [
       "['Job description Responsibilities and Duties Create innovative solutions using data across sales, health care and related fields for building object detection models, chatbots, classification models etc. Familiarity with deep learning algorithms and frameworks like Pytorch, Keras, TensorFlow. Good to go with NLP and NLTK Day-to-day responsibilities include use, customize and create algorithms for specific tasks in data science. Get exposed to and work on cutting-edge products based on ML and AI to create innovative industry solutions.. Work on real-life projects involving Computer Vision, NLP and other AI techniques, Using innovative ideas to collect, curate or synthesize data. Model the problem into an ML/DL framework. Deploy models to real time staging servers. Flexibility in working independently and do needful research whenever required.   Required Experience, Skills and Qualifications Knowledge of Python Knowledge in libraries like OpenCV, Scikit Learn, NumPy etc. Understanding of different frameworks like Pytorch, TensorFlow, Keras etc. Knowledge on NLP Good Knowledge on OOP and programing in python adapting to requirement Understanding of aws Understanding of any annotation tool Ability to write robust and testable code. Strong knowledge in computer science fundamentals, algorithms, mathematics, linear algebra, probability and statistics. Strong communication skills. An analytical mind with problem-solving abilities. Degree in Computer Science, Mathematics, Computational Linguistics or similar field. Interested candidates can fill the google form to proceed further.  https://docs.google.com/forms/d/16Eyl8_qofdP1B5fHFgBhBcJYxlcpUqP8h5U1Rw_8K5M/edit?usp=forms_home&ths=true RoleTrainee Industry TypeIT-Software, Software Services Functional AreaIT Software - Application Programming, Maintenance Employment TypeFull Time, Permanent Role CategoryOther Education UG :Any Graduate in Any Specialization PG :Any Postgraduate in Any Specialization Key Skills TensorflowJavaC++CphythonData StructuresArtificial IntelligenceMachine LearningMATLABsoftware DeveloperNLPAlgorithmsFresherComputer VisionLinear Algebra',\n",
       " 'Job description Location - Bangalore / Bengaluru Duration- 6 Months Responsibilities and Duties Create innovative solutions using data across sales, health care and related fields for building object detection models, chatbots, classification models etc. Familiarity with deep learning algorithms and frameworks like Pytorch, Keras, TensorFlow. Good to go with NLP and NLTK Day-to-day responsibilities include use, customize and create algorithms for specific tasks in data science. Get exposed to and work on cutting-edge products based on ML and AI to create innovative industry solutions.. Work on real-life projects involving Computer Vision, NLP and other AI techniques, Using innovative ideas to collect, curate or synthesize data. Model the problem into an ML/DL framework. Deploy models to real time staging servers. Flexibility in working independently and do needful research whenever required. Required Experience, Skills and Qualifications Knowledge of Python Knowledge in libraries like OpenCV, Scikit Learn, NumPy etc. Understanding of different frameworks like Pytorch, TensorFlow, Keras etc. Knowledge on NLP Good Knowledge on OOP and programing in python adapting to requirement Understanding of aws Understanding of any annotation tool Ability to write robust and testable code. Strong knowledge in computer science fundamentals, algorithms, mathematics, linear algebra, probability and statistics. Strong communication skills. An analytical mind with problem-solving abilities. Degree in Computer Science, Mathematics, Computational Linguistics or similar field. Qualification:  Looking for IIT, IIIT IISc, NIT, BIT & Equivalent colleges (Preferred) RoleSoftware Developer Industry TypeIT-Software, Software Services Functional AreaIT Software - Application Programming, Maintenance Employment TypeFull Time, Temporary/Contractual Role CategoryProgramming & Design Education UG :B.Tech/B.E. in Any Specialization PG :M.Tech in Any Specialization Key Skills NLPOpencvArtificial Intelligence Data ScienceRtensorflowAlgorithmsMATLABLinear AlgebraPython Skills highlighted with ‘‘ are preferred keyskills']"
      ]
     },
     "execution_count": 23,
     "metadata": {},
     "output_type": "execute_result"
    }
   ],
   "source": [
    "#full job description\n",
    "job_desc=[]\n",
    "for i in link_list[0:10]: # visit all the urls and fetch job description for each\n",
    "    driver.get(i)\n",
    "    for a in driver.find_elements_by_class_name('job-desc'):\n",
    "        job_desc.append(a.text.replace(\"\\n\",\" \"))\n",
    "    time.sleep(3) #implicitly wait\n",
    "job_desc[0:2]"
   ]
  },
  {
   "cell_type": "code",
   "execution_count": 24,
   "metadata": {},
   "outputs": [
    {
     "data": {
      "text/plain": [
       "10"
      ]
     },
     "execution_count": 24,
     "metadata": {},
     "output_type": "execute_result"
    }
   ],
   "source": [
    "#we have successfully scraped 10 job descriptions\n",
    "len(job_desc)"
   ]
  },
  {
   "cell_type": "code",
   "execution_count": 25,
   "metadata": {},
   "outputs": [
    {
     "data": {
      "text/html": [
       "<div>\n",
       "<style scoped>\n",
       "    .dataframe tbody tr th:only-of-type {\n",
       "        vertical-align: middle;\n",
       "    }\n",
       "\n",
       "    .dataframe tbody tr th {\n",
       "        vertical-align: top;\n",
       "    }\n",
       "\n",
       "    .dataframe thead th {\n",
       "        text-align: right;\n",
       "    }\n",
       "</style>\n",
       "<table border=\"1\" class=\"dataframe\">\n",
       "  <thead>\n",
       "    <tr style=\"text-align: right;\">\n",
       "      <th></th>\n",
       "      <th>company</th>\n",
       "      <th>job title</th>\n",
       "      <th>location</th>\n",
       "      <th>job description</th>\n",
       "    </tr>\n",
       "  </thead>\n",
       "  <tbody>\n",
       "    <tr>\n",
       "      <th>0</th>\n",
       "      <td>CronJ IT Technologies Private Limited</td>\n",
       "      <td>Data Scientist</td>\n",
       "      <td>Bangalore/Bengaluru</td>\n",
       "      <td>Job description Responsibilities and Duties Cr...</td>\n",
       "    </tr>\n",
       "    <tr>\n",
       "      <th>1</th>\n",
       "      <td>Corner Stone Solutions</td>\n",
       "      <td>Opportunity For Data Scientist Internship - Be...</td>\n",
       "      <td>Bangalore/Bengaluru</td>\n",
       "      <td>Job description Location - Bangalore / Bengalu...</td>\n",
       "    </tr>\n",
       "    <tr>\n",
       "      <th>2</th>\n",
       "      <td>Becton Dickinson India Pvt. Ltd</td>\n",
       "      <td>Data Scientist/ Analyst</td>\n",
       "      <td>Bangalore/Bengaluru</td>\n",
       "      <td>Job description Roles and Responsibilities ob ...</td>\n",
       "    </tr>\n",
       "    <tr>\n",
       "      <th>3</th>\n",
       "      <td>Wrackle Technologies Pvt Ltd</td>\n",
       "      <td>Data Scientist - Python/ MATLAB/ Machine Learn...</td>\n",
       "      <td>Bangalore/Bengaluru</td>\n",
       "      <td>Job description Data Scientist - Data Mining/ ...</td>\n",
       "    </tr>\n",
       "    <tr>\n",
       "      <th>4</th>\n",
       "      <td>Fidius advisory</td>\n",
       "      <td>Principal Data Scientist - Machine/Deep Learni...</td>\n",
       "      <td>Bangalore/Bengaluru</td>\n",
       "      <td>Job description Job Description : - We are loo...</td>\n",
       "    </tr>\n",
       "    <tr>\n",
       "      <th>5</th>\n",
       "      <td>Inspiration Manpower Consultancy Pvt. Ltd.</td>\n",
       "      <td>Data Scientist || Data Analyst || Data science</td>\n",
       "      <td>Navi Mumbai, Bangalore/Bengaluru</td>\n",
       "      <td>Job description Job description Job Summary an...</td>\n",
       "    </tr>\n",
       "    <tr>\n",
       "      <th>6</th>\n",
       "      <td>GANIT BUSINESS SOLUTIONS PRIVATE LIMITED</td>\n",
       "      <td>Data Scientist/Senior Data Scientist</td>\n",
       "      <td>Hyderabad/Secunderabad, Pune, Chennai, Bangalo...</td>\n",
       "      <td>Job description  About Ganit Inc  Founded by s...</td>\n",
       "    </tr>\n",
       "    <tr>\n",
       "      <th>7</th>\n",
       "      <td>IBM India Pvt. Limited</td>\n",
       "      <td>Data Scientist - Advanced Analytics</td>\n",
       "      <td>Bangalore/Bengaluru</td>\n",
       "      <td>DATA SCIENTIST – ADVANCED ANALYTICS from 10 to...</td>\n",
       "    </tr>\n",
       "    <tr>\n",
       "      <th>8</th>\n",
       "      <td>Sony India Software Center</td>\n",
       "      <td>Data Scientist</td>\n",
       "      <td>Bangalore/Bengaluru</td>\n",
       "      <td>Job description Sony is looking for a Data Sci...</td>\n",
       "    </tr>\n",
       "    <tr>\n",
       "      <th>9</th>\n",
       "      <td>Inflexion Analytix Private Limited</td>\n",
       "      <td>Data Scientist/Data Analyst-immediate</td>\n",
       "      <td>Hyderabad/Secunderabad, Pune, Chennai, Bangalo...</td>\n",
       "      <td>Job description Job description Dear Candidate...</td>\n",
       "    </tr>\n",
       "  </tbody>\n",
       "</table>\n",
       "</div>"
      ],
      "text/plain": [
       "                                      company  \\\n",
       "0       CronJ IT Technologies Private Limited   \n",
       "1                      Corner Stone Solutions   \n",
       "2             Becton Dickinson India Pvt. Ltd   \n",
       "3                Wrackle Technologies Pvt Ltd   \n",
       "4                             Fidius advisory   \n",
       "5  Inspiration Manpower Consultancy Pvt. Ltd.   \n",
       "6    GANIT BUSINESS SOLUTIONS PRIVATE LIMITED   \n",
       "7                      IBM India Pvt. Limited   \n",
       "8                  Sony India Software Center   \n",
       "9          Inflexion Analytix Private Limited   \n",
       "\n",
       "                                           job title  \\\n",
       "0                                     Data Scientist   \n",
       "1  Opportunity For Data Scientist Internship - Be...   \n",
       "2                            Data Scientist/ Analyst   \n",
       "3  Data Scientist - Python/ MATLAB/ Machine Learn...   \n",
       "4  Principal Data Scientist - Machine/Deep Learni...   \n",
       "5     Data Scientist || Data Analyst || Data science   \n",
       "6               Data Scientist/Senior Data Scientist   \n",
       "7                Data Scientist - Advanced Analytics   \n",
       "8                                     Data Scientist   \n",
       "9              Data Scientist/Data Analyst-immediate   \n",
       "\n",
       "                                            location  \\\n",
       "0                                Bangalore/Bengaluru   \n",
       "1                                Bangalore/Bengaluru   \n",
       "2                                Bangalore/Bengaluru   \n",
       "3                                Bangalore/Bengaluru   \n",
       "4                                Bangalore/Bengaluru   \n",
       "5                   Navi Mumbai, Bangalore/Bengaluru   \n",
       "6  Hyderabad/Secunderabad, Pune, Chennai, Bangalo...   \n",
       "7                                Bangalore/Bengaluru   \n",
       "8                                Bangalore/Bengaluru   \n",
       "9  Hyderabad/Secunderabad, Pune, Chennai, Bangalo...   \n",
       "\n",
       "                                     job description  \n",
       "0  Job description Responsibilities and Duties Cr...  \n",
       "1  Job description Location - Bangalore / Bengalu...  \n",
       "2  Job description Roles and Responsibilities ob ...  \n",
       "3  Job description Data Scientist - Data Mining/ ...  \n",
       "4  Job description Job Description : - We are loo...  \n",
       "5  Job description Job description Job Summary an...  \n",
       "6  Job description  About Ganit Inc  Founded by s...  \n",
       "7  DATA SCIENTIST – ADVANCED ANALYTICS from 10 to...  \n",
       "8  Job description Sony is looking for a Data Sci...  \n",
       "9  Job description Job description Dear Candidate...  "
      ]
     },
     "execution_count": 25,
     "metadata": {},
     "output_type": "execute_result"
    }
   ],
   "source": [
    "#creating dataframe\n",
    "df=pd.DataFrame({})\n",
    "df['company']=company_list[0:10]\n",
    "df['job title']=job_title_list[0:10]\n",
    "df['location']=location_list[0:10]\n",
    "df['job description']=job_desc[0:10]\n",
    "df"
   ]
  },
  {
   "cell_type": "markdown",
   "metadata": {},
   "source": [
    "# Q 3) Scrape data for “Data Scientist” designation for first 10 job results.\n",
    "\n",
    "\n",
    "#### You have to scrape the job-title, job-location, company_name,experience_required.The location filter to be used is “Delhi/NCR”The salary filter to be used is “3-6” lakh\n"
   ]
  },
  {
   "cell_type": "code",
   "execution_count": 69,
   "metadata": {},
   "outputs": [],
   "source": [
    "# step 1: visit the naukri.com page\n",
    "driver.get(\"https://www.naukri.com/\")\n",
    "#step 2:selecting the skills serach bar and entering data scientist as designation\n",
    "search_bar=driver.find_element_by_id(\"qsb-keyword-sugg\")\n",
    "search_bar.send_keys(\"Data Scientist\")\n",
    "#click on search button\n",
    "search_button=driver.find_element_by_xpath(\"//div[@class='search-btn']\")\n",
    "search_button.click()"
   ]
  },
  {
   "cell_type": "code",
   "execution_count": 70,
   "metadata": {},
   "outputs": [],
   "source": [
    "driver.maximize_window()"
   ]
  },
  {
   "cell_type": "code",
   "execution_count": 71,
   "metadata": {},
   "outputs": [],
   "source": [
    "##filter selection for location as delhi /ncr\n",
    "location_filter=driver.find_element_by_xpath(\"//div[@class='filterOptns']/div[2]\")\n",
    "location_filter.click()                                      "
   ]
  },
  {
   "cell_type": "code",
   "execution_count": 72,
   "metadata": {},
   "outputs": [],
   "source": [
    "##filter selection for salary as 3-6 lakhs\n",
    "salary_filter=driver.find_element_by_xpath(\"//div[@class='filterContainer bgWhite br4'][3]/div[2]/div[2]\")\n",
    "salary_filter.click()"
   ]
  },
  {
   "cell_type": "code",
   "execution_count": 31,
   "metadata": {},
   "outputs": [],
   "source": [
    "#filter selection for location as delhi /ncr\n",
    "#location_filter=driver.find_element_by_xpath(\"//*[@id='root']/div[3]/div[2]/section[1]/div[2]/div[2]/div[2]/div[2]/label/p/span[1]\")\n",
    "#location_filter.click()"
   ]
  },
  {
   "cell_type": "markdown",
   "metadata": {},
   "source": [
    "#### After applying the filter you can see on the top that 2 filters are applied"
   ]
  },
  {
   "cell_type": "code",
   "execution_count": 73,
   "metadata": {},
   "outputs": [
    {
     "data": {
      "text/plain": [
       "['Developer - Data Science',\n",
       " 'Data Scientist/Data Analyst - Python/Machine Learning',\n",
       " 'Data Scientist']"
      ]
     },
     "execution_count": 73,
     "metadata": {},
     "output_type": "execute_result"
    }
   ],
   "source": [
    "#collecting job titles\n",
    "title=driver.find_elements_by_xpath(\"//a[@class='title fw500 ellipsis']\")\n",
    "#extracting the text from above title\n",
    "title_list=[]\n",
    "for i in title:\n",
    "    title_list.append(i.text)\n",
    "title_list[0:3]"
   ]
  },
  {
   "cell_type": "code",
   "execution_count": 74,
   "metadata": {},
   "outputs": [
    {
     "data": {
      "text/plain": [
       "['ICL Systems India Private Limited', 'Change leaders', 'Amity University']"
      ]
     },
     "execution_count": 74,
     "metadata": {},
     "output_type": "execute_result"
    }
   ],
   "source": [
    "#getting the company name\n",
    "company=driver.find_elements_by_xpath(\"//a[@class='subTitle ellipsis fleft']\")\n",
    "#extracting the text from above output\n",
    "company_list=[]\n",
    "for i in company:\n",
    "    company_list.append(i.text)\n",
    "company_list[0:3]"
   ]
  },
  {
   "cell_type": "code",
   "execution_count": 75,
   "metadata": {},
   "outputs": [
    {
     "data": {
      "text/plain": [
       "['Delhi / NCR', 'Mumbai, Ghaziabad', 'Ghaziabad, Faridabad, Delhi / NCR']"
      ]
     },
     "execution_count": 75,
     "metadata": {},
     "output_type": "execute_result"
    }
   ],
   "source": [
    "#getting the locations\n",
    "location=driver.find_elements_by_xpath(\"//li[@class='fleft grey-text br2 placeHolderLi location']\")\n",
    "#extracting the text from above output\n",
    "location_list=[]\n",
    "for i in location:\n",
    "    location_list.append(i.text)\n",
    "location_list[0:3]"
   ]
  },
  {
   "cell_type": "code",
   "execution_count": 76,
   "metadata": {},
   "outputs": [
    {
     "data": {
      "text/plain": [
       "['3-5 Yrs', '5-10 Yrs', '6-8 Yrs']"
      ]
     },
     "execution_count": 76,
     "metadata": {},
     "output_type": "execute_result"
    }
   ],
   "source": [
    "#getting the experience\n",
    "exp=driver.find_elements_by_xpath(\"//li[@class='fleft grey-text br2 placeHolderLi experience']\")\n",
    "#extracting the text from above output\n",
    "exp_list=[]\n",
    "for i in exp:\n",
    "    exp_list.append(i.text)\n",
    "exp_list[0:3]"
   ]
  },
  {
   "cell_type": "code",
   "execution_count": 77,
   "metadata": {},
   "outputs": [
    {
     "name": "stdout",
     "output_type": "stream",
     "text": [
      "21 21 21 21\n"
     ]
    }
   ],
   "source": [
    "#checking the lengths\n",
    "print(len(title_list),len(company_list),len(location_list),len(exp_list))"
   ]
  },
  {
   "cell_type": "code",
   "execution_count": 78,
   "metadata": {},
   "outputs": [
    {
     "data": {
      "text/html": [
       "<div>\n",
       "<style scoped>\n",
       "    .dataframe tbody tr th:only-of-type {\n",
       "        vertical-align: middle;\n",
       "    }\n",
       "\n",
       "    .dataframe tbody tr th {\n",
       "        vertical-align: top;\n",
       "    }\n",
       "\n",
       "    .dataframe thead th {\n",
       "        text-align: right;\n",
       "    }\n",
       "</style>\n",
       "<table border=\"1\" class=\"dataframe\">\n",
       "  <thead>\n",
       "    <tr style=\"text-align: right;\">\n",
       "      <th></th>\n",
       "      <th>Title</th>\n",
       "      <th>Company</th>\n",
       "      <th>Location</th>\n",
       "      <th>Experience</th>\n",
       "    </tr>\n",
       "  </thead>\n",
       "  <tbody>\n",
       "    <tr>\n",
       "      <th>0</th>\n",
       "      <td>Developer - Data Science</td>\n",
       "      <td>ICL Systems India Private Limited</td>\n",
       "      <td>Delhi / NCR</td>\n",
       "      <td>3-5 Yrs</td>\n",
       "    </tr>\n",
       "    <tr>\n",
       "      <th>1</th>\n",
       "      <td>Data Scientist/Data Analyst - Python/Machine L...</td>\n",
       "      <td>Change leaders</td>\n",
       "      <td>Mumbai, Ghaziabad</td>\n",
       "      <td>5-10 Yrs</td>\n",
       "    </tr>\n",
       "    <tr>\n",
       "      <th>2</th>\n",
       "      <td>Data Scientist</td>\n",
       "      <td>Amity University</td>\n",
       "      <td>Ghaziabad, Faridabad, Delhi / NCR</td>\n",
       "      <td>6-8 Yrs</td>\n",
       "    </tr>\n",
       "    <tr>\n",
       "      <th>3</th>\n",
       "      <td>Data Scientist - Python &amp; Machine Learning</td>\n",
       "      <td>FUTURES AND CAREERS</td>\n",
       "      <td>Hyderabad/Secunderabad, Pune, Chennai, Bangalo...</td>\n",
       "      <td>2-7 Yrs</td>\n",
       "    </tr>\n",
       "    <tr>\n",
       "      <th>4</th>\n",
       "      <td>Data Scientist - Python &amp; Machine Learning</td>\n",
       "      <td>FUTURES AND CAREERS</td>\n",
       "      <td>Hyderabad/Secunderabad, Pune, Bangalore/Bengal...</td>\n",
       "      <td>2-7 Yrs</td>\n",
       "    </tr>\n",
       "    <tr>\n",
       "      <th>5</th>\n",
       "      <td>Data Scientist - Python / Machine Learning / T...</td>\n",
       "      <td>FUTURES AND CAREERS</td>\n",
       "      <td>Mumbai, Hyderabad/Secunderabad, Bangalore/Beng...</td>\n",
       "      <td>3-8 Yrs</td>\n",
       "    </tr>\n",
       "    <tr>\n",
       "      <th>6</th>\n",
       "      <td>Data Scientist - Python &amp; Machine Learning</td>\n",
       "      <td>FUTURES AND CAREERS</td>\n",
       "      <td>Hyderabad/Secunderabad, Bangalore/Bengaluru, D...</td>\n",
       "      <td>2-7 Yrs</td>\n",
       "    </tr>\n",
       "    <tr>\n",
       "      <th>7</th>\n",
       "      <td>Data Scientist - Python &amp; Machine Learning (IS...</td>\n",
       "      <td>FUTURES AND CAREERS</td>\n",
       "      <td>Hyderabad/Secunderabad, Bangalore/Bengaluru, D...</td>\n",
       "      <td>3-8 Yrs</td>\n",
       "    </tr>\n",
       "    <tr>\n",
       "      <th>8</th>\n",
       "      <td>Data Scientist - Python / Machine Learning / T...</td>\n",
       "      <td>FUTURES AND CAREERS</td>\n",
       "      <td>Hyderabad/Secunderabad, Bangalore/Bengaluru, D...</td>\n",
       "      <td>3-8 Yrs</td>\n",
       "    </tr>\n",
       "    <tr>\n",
       "      <th>9</th>\n",
       "      <td>Data Scientist - Machine Learning/ NLP</td>\n",
       "      <td>TalPro</td>\n",
       "      <td>Gurgaon/Gurugram</td>\n",
       "      <td>2-6 Yrs</td>\n",
       "    </tr>\n",
       "  </tbody>\n",
       "</table>\n",
       "</div>"
      ],
      "text/plain": [
       "                                               Title  \\\n",
       "0                           Developer - Data Science   \n",
       "1  Data Scientist/Data Analyst - Python/Machine L...   \n",
       "2                                     Data Scientist   \n",
       "3         Data Scientist - Python & Machine Learning   \n",
       "4         Data Scientist - Python & Machine Learning   \n",
       "5  Data Scientist - Python / Machine Learning / T...   \n",
       "6         Data Scientist - Python & Machine Learning   \n",
       "7  Data Scientist - Python & Machine Learning (IS...   \n",
       "8  Data Scientist - Python / Machine Learning / T...   \n",
       "9             Data Scientist - Machine Learning/ NLP   \n",
       "\n",
       "                             Company  \\\n",
       "0  ICL Systems India Private Limited   \n",
       "1                     Change leaders   \n",
       "2                   Amity University   \n",
       "3                FUTURES AND CAREERS   \n",
       "4                FUTURES AND CAREERS   \n",
       "5                FUTURES AND CAREERS   \n",
       "6                FUTURES AND CAREERS   \n",
       "7                FUTURES AND CAREERS   \n",
       "8                FUTURES AND CAREERS   \n",
       "9                             TalPro   \n",
       "\n",
       "                                            Location Experience  \n",
       "0                                        Delhi / NCR    3-5 Yrs  \n",
       "1                                  Mumbai, Ghaziabad   5-10 Yrs  \n",
       "2                  Ghaziabad, Faridabad, Delhi / NCR    6-8 Yrs  \n",
       "3  Hyderabad/Secunderabad, Pune, Chennai, Bangalo...    2-7 Yrs  \n",
       "4  Hyderabad/Secunderabad, Pune, Bangalore/Bengal...    2-7 Yrs  \n",
       "5  Mumbai, Hyderabad/Secunderabad, Bangalore/Beng...    3-8 Yrs  \n",
       "6  Hyderabad/Secunderabad, Bangalore/Bengaluru, D...    2-7 Yrs  \n",
       "7  Hyderabad/Secunderabad, Bangalore/Bengaluru, D...    3-8 Yrs  \n",
       "8  Hyderabad/Secunderabad, Bangalore/Bengaluru, D...    3-8 Yrs  \n",
       "9                                   Gurgaon/Gurugram    2-6 Yrs  "
      ]
     },
     "execution_count": 78,
     "metadata": {},
     "output_type": "execute_result"
    }
   ],
   "source": [
    "#creating a dataframe with first 10 jobs\n",
    "df=pd.DataFrame({'Title':title_list[0:10],\n",
    "                'Company':company_list[0:10],\n",
    "                'Location':location_list[0:10],\n",
    "                'Experience':exp_list[0:10]})\n",
    "df\n",
    "\n",
    "#cross check the location with csv file  all are delhi and ncr regions\n",
    "#df.to_csv(\"question 3.csv\")"
   ]
  },
  {
   "cell_type": "markdown",
   "metadata": {},
   "source": [
    "# Q4: Write a python program to scrape data for first 10 job results for Data scientist Designation in Noida location. You have to scrape company_name, No. of days ago when job was posted, Rating of the company.\n"
   ]
  },
  {
   "cell_type": "code",
   "execution_count": 4,
   "metadata": {},
   "outputs": [],
   "source": [
    "# step 1:pass the glassdoor url that we need to visit\n",
    "driver.get(\"https://www.glassdoor.co.in/index.htm\")"
   ]
  },
  {
   "cell_type": "markdown",
   "metadata": {},
   "source": [
    "#### After this step you will need to login manually as the login credentials are confedential if google does not give permission you might use facebook to login with\n"
   ]
  },
  {
   "cell_type": "code",
   "execution_count": 5,
   "metadata": {},
   "outputs": [],
   "source": [
    "#sending data scientist keyword\n",
    "search_job=driver.find_element_by_id(\"sc.keyword\")\n",
    "search_job.send_keys(\"Data Scientist\")\n"
   ]
  },
  {
   "cell_type": "code",
   "execution_count": 6,
   "metadata": {},
   "outputs": [],
   "source": [
    "#search the location bar\n",
    "search_loc=driver.find_element_by_id(\"sc.location\")\n",
    "\n",
    "#the location already has pune in it so we will have to delete it \n",
    "\n",
    "from selenium.webdriver.common.keys import Keys\n",
    "\n",
    "search_loc.send_keys(Keys.CONTROL + \"a\");  #ctrl+a to select all\n",
    "search_loc.send_keys(Keys.DELETE);   # to delete the selected text i.e pune\n",
    "time.sleep(6) #implicitly wait\n",
    "\n",
    "#pass the value as noida\n",
    "search_loc.send_keys(\"Noida\")\n"
   ]
  },
  {
   "cell_type": "code",
   "execution_count": 7,
   "metadata": {},
   "outputs": [],
   "source": [
    "#clicking the search button\n",
    "search_button=driver.find_element_by_xpath(\"//*[@id='scBar']/div/button\")\n",
    "search_button.click()\n"
   ]
  },
  {
   "cell_type": "code",
   "execution_count": 8,
   "metadata": {},
   "outputs": [
    {
     "data": {
      "text/plain": [
       "['Adobe', 'Biz2Credit Inc', 'Unyscape Infocom Pvt. Ltd']"
      ]
     },
     "execution_count": 8,
     "metadata": {},
     "output_type": "execute_result"
    }
   ],
   "source": [
    "#company name\n",
    "company=driver.find_elements_by_xpath(\"//div[@class='d-flex justify-content-between align-items-start']\")\n",
    "company_list=[]\n",
    "for i in company:\n",
    "    company_list.append(i.text)\n",
    "company_list[0:3]"
   ]
  },
  {
   "cell_type": "code",
   "execution_count": 9,
   "metadata": {},
   "outputs": [
    {
     "data": {
      "text/plain": [
       "['2d', '30d+', '28d']"
      ]
     },
     "execution_count": 9,
     "metadata": {},
     "output_type": "execute_result"
    }
   ],
   "source": [
    "#number of days posted\n",
    "days=driver.find_elements_by_xpath(\"//div[@class='d-flex align-items-end pl-std css-mi55ob']\")\n",
    "days_list=[]\n",
    "for i in days:\n",
    "    days_list.append(i.text)\n",
    "days_list[0:3]"
   ]
  },
  {
   "cell_type": "code",
   "execution_count": 11,
   "metadata": {},
   "outputs": [
    {
     "data": {
      "text/plain": [
       "['4.4', '3.8', '4.1']"
      ]
     },
     "execution_count": 11,
     "metadata": {},
     "output_type": "execute_result"
    }
   ],
   "source": [
    "#scrap the ratings\n",
    "ratings=driver.find_elements_by_xpath(\"//div[@class='d-flex flex-column css-x75kgh e1rrn5ka3']\")\n",
    "ratings_list=[]\n",
    "for i in ratings:\n",
    "    if i.text is None :\n",
    "        ratings_list.append(\"--\")\n",
    "    else:\n",
    "        ratings_list.append(i.text)\n",
    "ratings_list[0:3]"
   ]
  },
  {
   "cell_type": "code",
   "execution_count": 12,
   "metadata": {},
   "outputs": [
    {
     "name": "stdout",
     "output_type": "stream",
     "text": [
      "30 30 30\n"
     ]
    }
   ],
   "source": [
    "#checking the length of all lists collected\n",
    "print(len(ratings_list),len(company_list),len(days_list))"
   ]
  },
  {
   "cell_type": "code",
   "execution_count": 13,
   "metadata": {},
   "outputs": [
    {
     "data": {
      "text/html": [
       "<div>\n",
       "<style scoped>\n",
       "    .dataframe tbody tr th:only-of-type {\n",
       "        vertical-align: middle;\n",
       "    }\n",
       "\n",
       "    .dataframe tbody tr th {\n",
       "        vertical-align: top;\n",
       "    }\n",
       "\n",
       "    .dataframe thead th {\n",
       "        text-align: right;\n",
       "    }\n",
       "</style>\n",
       "<table border=\"1\" class=\"dataframe\">\n",
       "  <thead>\n",
       "    <tr style=\"text-align: right;\">\n",
       "      <th></th>\n",
       "      <th>Company</th>\n",
       "      <th>Ratings</th>\n",
       "      <th>No.of days ago job posted</th>\n",
       "    </tr>\n",
       "  </thead>\n",
       "  <tbody>\n",
       "    <tr>\n",
       "      <th>0</th>\n",
       "      <td>Adobe</td>\n",
       "      <td>4.4</td>\n",
       "      <td>2d</td>\n",
       "    </tr>\n",
       "    <tr>\n",
       "      <th>1</th>\n",
       "      <td>Biz2Credit Inc</td>\n",
       "      <td>3.8</td>\n",
       "      <td>30d+</td>\n",
       "    </tr>\n",
       "    <tr>\n",
       "      <th>2</th>\n",
       "      <td>Unyscape Infocom Pvt. Ltd</td>\n",
       "      <td>4.1</td>\n",
       "      <td>28d</td>\n",
       "    </tr>\n",
       "    <tr>\n",
       "      <th>3</th>\n",
       "      <td>Salasar New Age Technologies</td>\n",
       "      <td></td>\n",
       "      <td>30d+</td>\n",
       "    </tr>\n",
       "    <tr>\n",
       "      <th>4</th>\n",
       "      <td>SysQuo Innovation Private Limited</td>\n",
       "      <td>3.0</td>\n",
       "      <td>13d</td>\n",
       "    </tr>\n",
       "    <tr>\n",
       "      <th>5</th>\n",
       "      <td>Techlive</td>\n",
       "      <td>5.0</td>\n",
       "      <td>30d+</td>\n",
       "    </tr>\n",
       "    <tr>\n",
       "      <th>6</th>\n",
       "      <td>Innovaccer Analytics Private Limited</td>\n",
       "      <td>3.5</td>\n",
       "      <td>12d</td>\n",
       "    </tr>\n",
       "    <tr>\n",
       "      <th>7</th>\n",
       "      <td>Salasar New Age Technologies</td>\n",
       "      <td></td>\n",
       "      <td>30d+</td>\n",
       "    </tr>\n",
       "    <tr>\n",
       "      <th>8</th>\n",
       "      <td>Asquero</td>\n",
       "      <td>5.0</td>\n",
       "      <td>3d</td>\n",
       "    </tr>\n",
       "    <tr>\n",
       "      <th>9</th>\n",
       "      <td>Innovacer</td>\n",
       "      <td>3.8</td>\n",
       "      <td>13d</td>\n",
       "    </tr>\n",
       "  </tbody>\n",
       "</table>\n",
       "</div>"
      ],
      "text/plain": [
       "                                Company Ratings No.of days ago job posted\n",
       "0                                 Adobe     4.4                        2d\n",
       "1                        Biz2Credit Inc     3.8                      30d+\n",
       "2             Unyscape Infocom Pvt. Ltd     4.1                       28d\n",
       "3          Salasar New Age Technologies                              30d+\n",
       "4     SysQuo Innovation Private Limited     3.0                       13d\n",
       "5                              Techlive     5.0                      30d+\n",
       "6  Innovaccer Analytics Private Limited     3.5                       12d\n",
       "7          Salasar New Age Technologies                              30d+\n",
       "8                               Asquero     5.0                        3d\n",
       "9                             Innovacer     3.8                       13d"
      ]
     },
     "execution_count": 13,
     "metadata": {},
     "output_type": "execute_result"
    }
   ],
   "source": [
    "#creating dataframe\n",
    "df=pd.DataFrame({})\n",
    "df['Company']=company_list[0:10]\n",
    "df['Ratings']=ratings_list[0:10]\n",
    "df['No.of days ago job posted']=days_list[0:10]\n",
    "df\n",
    "\n",
    "#close the automated chrome window\n",
    "#driver.close()"
   ]
  },
  {
   "cell_type": "markdown",
   "metadata": {},
   "source": [
    "# Q 5 ) Write a python program to scrape the salary data for Data Scientist designation in Noida location.scrape Company name, Number of salaries, Average salary, Min salary, Max Salary.\n",
    "\n"
   ]
  },
  {
   "cell_type": "code",
   "execution_count": 22,
   "metadata": {},
   "outputs": [],
   "source": [
    "# step 1:pass the glassdoor url that we need to visit\n",
    "driver.get(\"https://www.glassdoor.co.in/Salaries/index.htm\")"
   ]
  },
  {
   "cell_type": "code",
   "execution_count": 23,
   "metadata": {},
   "outputs": [],
   "source": [
    "#passing data scientist as designation\n",
    "search_job=driver.find_element_by_id(\"KeywordSearch\")\n",
    "search_job.send_keys(\"Data Scientist\")\n",
    "\n",
    "#search the location path\n",
    "search_loc=driver.find_element_by_id (\"LocationSearch\")\n",
    "#the location is already pune so we will clear it\n",
    "search_loc.clear()\n",
    "time.sleep(2)\n",
    "\n",
    "# pass Noida as new location\n",
    "search_loc.send_keys(\"Noida\")\n"
   ]
  },
  {
   "cell_type": "code",
   "execution_count": 24,
   "metadata": {},
   "outputs": [],
   "source": [
    "#click on search button\n",
    "search_button=driver.find_element_by_id(\"HeroSearchButton\")\n",
    "search_button.click()"
   ]
  },
  {
   "cell_type": "code",
   "execution_count": 25,
   "metadata": {},
   "outputs": [
    {
     "data": {
      "text/plain": [
       "['Tata Consultancy Services', 'Accenture', 'Delhivery', 'IBM']"
      ]
     },
     "execution_count": 25,
     "metadata": {},
     "output_type": "execute_result"
    }
   ],
   "source": [
    "# company names\n",
    "company=driver.find_elements_by_xpath(\"//div[@class='col-md-6']\")\n",
    "#getting text from above using a loop\n",
    "company_list=[]\n",
    "for i in company:\n",
    "    company_list.append(i.text.split('\\n')[1])  #split the data at \\n and take the data at index 1\n",
    "company_list[0:4]"
   ]
  },
  {
   "cell_type": "code",
   "execution_count": 26,
   "metadata": {},
   "outputs": [
    {
     "data": {
      "text/plain": [
       "['₹336L', '₹579L', '₹452L', '₹589L']"
      ]
     },
     "execution_count": 26,
     "metadata": {},
     "output_type": "execute_result"
    }
   ],
   "source": [
    "#salary\n",
    "salary=driver.find_elements_by_xpath(\"//div[@class='common__RangeBarStyle__rangeBar undefined undefined ']\")\n",
    "salary[0:3]\n",
    "\n",
    "#minimum salary\n",
    "min_list=[]\n",
    "for i in salary:\n",
    "    min_list.append(i.text.split('\\n')[0])  #split the data at \\n and take the data at index 0\n",
    "min_list[0:4]"
   ]
  },
  {
   "cell_type": "code",
   "execution_count": 27,
   "metadata": {},
   "outputs": [
    {
     "data": {
      "text/plain": [
       "['₹1,080L', '₹2,222L', '₹11,669L', '₹2,741L']"
      ]
     },
     "execution_count": 27,
     "metadata": {},
     "output_type": "execute_result"
    }
   ],
   "source": [
    "#maximum salary\n",
    "max_list=[]\n",
    "for i in salary:\n",
    "    max_list.append(i.text.split('\\n')[1])  #split the data at \\n and take the data at index 1\n",
    "max_list[0:4]"
   ]
  },
  {
   "cell_type": "code",
   "execution_count": 28,
   "metadata": {},
   "outputs": [
    {
     "data": {
      "text/plain": [
       "['₹ 6,01,000/yr', '₹ 11,51,207/yr', '₹ 12,34,207/yr', '₹ 7,63,825/yr']"
      ]
     },
     "execution_count": 28,
     "metadata": {},
     "output_type": "execute_result"
    }
   ],
   "source": [
    "#average salary\n",
    "avg_sal=driver.find_elements_by_xpath(\"//div[@class='col-2 d-none d-md-flex flex-row justify-content-end']\")\n",
    "avg_sal_list=[]\n",
    "for i in avg_sal:\n",
    "    avg_sal_list.append(i.text.replace(\"\\n\",''))  #split the data at \\n and take the data at index 1\n",
    "avg_sal_list[0:4]"
   ]
  },
  {
   "cell_type": "code",
   "execution_count": 29,
   "metadata": {},
   "outputs": [
    {
     "data": {
      "text/plain": [
       "['14 salaries', '14 salaries', '14 salaries', '13 salaries']"
      ]
     },
     "execution_count": 29,
     "metadata": {},
     "output_type": "execute_result"
    }
   ],
   "source": [
    "#number of salaries\n",
    "sal_count=driver.find_elements_by_xpath(\"//div[@class='col-md-6']\")\n",
    "sal_count_list=[]\n",
    "for i in sal_count:\n",
    "    sal_count_list.append(i.text.split(\"\\n\")[2])  #split the data at \\n and take the data at index 1\n",
    "sal_count_list[0:4]"
   ]
  },
  {
   "cell_type": "code",
   "execution_count": 30,
   "metadata": {},
   "outputs": [
    {
     "name": "stdout",
     "output_type": "stream",
     "text": [
      "20 20 20 20 20\n"
     ]
    }
   ],
   "source": [
    "#checking the length\n",
    "print(len(company_list),len(min_list),len(max_list),len(avg_sal_list),len(sal_count_list))"
   ]
  },
  {
   "cell_type": "code",
   "execution_count": 31,
   "metadata": {},
   "outputs": [
    {
     "data": {
      "text/html": [
       "<div>\n",
       "<style scoped>\n",
       "    .dataframe tbody tr th:only-of-type {\n",
       "        vertical-align: middle;\n",
       "    }\n",
       "\n",
       "    .dataframe tbody tr th {\n",
       "        vertical-align: top;\n",
       "    }\n",
       "\n",
       "    .dataframe thead th {\n",
       "        text-align: right;\n",
       "    }\n",
       "</style>\n",
       "<table border=\"1\" class=\"dataframe\">\n",
       "  <thead>\n",
       "    <tr style=\"text-align: right;\">\n",
       "      <th></th>\n",
       "      <th>Company</th>\n",
       "      <th>Number of salaries</th>\n",
       "      <th>Average Salary</th>\n",
       "      <th>Minimum Salary</th>\n",
       "      <th>Maximum Salary</th>\n",
       "    </tr>\n",
       "  </thead>\n",
       "  <tbody>\n",
       "    <tr>\n",
       "      <th>0</th>\n",
       "      <td>Tata Consultancy Services</td>\n",
       "      <td>14 salaries</td>\n",
       "      <td>₹ 6,01,000/yr</td>\n",
       "      <td>₹336L</td>\n",
       "      <td>₹1,080L</td>\n",
       "    </tr>\n",
       "    <tr>\n",
       "      <th>1</th>\n",
       "      <td>Accenture</td>\n",
       "      <td>14 salaries</td>\n",
       "      <td>₹ 11,51,207/yr</td>\n",
       "      <td>₹579L</td>\n",
       "      <td>₹2,222L</td>\n",
       "    </tr>\n",
       "    <tr>\n",
       "      <th>2</th>\n",
       "      <td>Delhivery</td>\n",
       "      <td>14 salaries</td>\n",
       "      <td>₹ 12,34,207/yr</td>\n",
       "      <td>₹452L</td>\n",
       "      <td>₹11,669L</td>\n",
       "    </tr>\n",
       "    <tr>\n",
       "      <th>3</th>\n",
       "      <td>IBM</td>\n",
       "      <td>13 salaries</td>\n",
       "      <td>₹ 7,63,825/yr</td>\n",
       "      <td>₹589L</td>\n",
       "      <td>₹2,741L</td>\n",
       "    </tr>\n",
       "    <tr>\n",
       "      <th>4</th>\n",
       "      <td>Ericsson-Worldwide</td>\n",
       "      <td>12 salaries</td>\n",
       "      <td>₹ 7,32,209/yr</td>\n",
       "      <td>₹350L</td>\n",
       "      <td>₹1,619L</td>\n",
       "    </tr>\n",
       "    <tr>\n",
       "      <th>5</th>\n",
       "      <td>UnitedHealth Group</td>\n",
       "      <td>10 salaries</td>\n",
       "      <td>₹ 13,88,910/yr</td>\n",
       "      <td>₹1,050L</td>\n",
       "      <td>₹1,500L</td>\n",
       "    </tr>\n",
       "    <tr>\n",
       "      <th>6</th>\n",
       "      <td>Valiance Solutions</td>\n",
       "      <td>9 salaries</td>\n",
       "      <td>₹ 8,18,515/yr</td>\n",
       "      <td>₹504L</td>\n",
       "      <td>₹1,471L</td>\n",
       "    </tr>\n",
       "    <tr>\n",
       "      <th>7</th>\n",
       "      <td>Innovaccer</td>\n",
       "      <td>8 salaries</td>\n",
       "      <td>₹ 12,01,403/yr</td>\n",
       "      <td>₹623L</td>\n",
       "      <td>₹1,702L</td>\n",
       "    </tr>\n",
       "    <tr>\n",
       "      <th>8</th>\n",
       "      <td>ZS Associates</td>\n",
       "      <td>7 salaries</td>\n",
       "      <td>₹ 10,00,000/yr</td>\n",
       "      <td>₹203L</td>\n",
       "      <td>₹1,817L</td>\n",
       "    </tr>\n",
       "    <tr>\n",
       "      <th>9</th>\n",
       "      <td>EXL Service</td>\n",
       "      <td>7 salaries</td>\n",
       "      <td>₹ 11,90,000/yr</td>\n",
       "      <td>₹578L</td>\n",
       "      <td>₹1,500L</td>\n",
       "    </tr>\n",
       "  </tbody>\n",
       "</table>\n",
       "</div>"
      ],
      "text/plain": [
       "                     Company Number of salaries  Average Salary  \\\n",
       "0  Tata Consultancy Services        14 salaries   ₹ 6,01,000/yr   \n",
       "1                  Accenture        14 salaries  ₹ 11,51,207/yr   \n",
       "2                  Delhivery        14 salaries  ₹ 12,34,207/yr   \n",
       "3                        IBM        13 salaries   ₹ 7,63,825/yr   \n",
       "4         Ericsson-Worldwide        12 salaries   ₹ 7,32,209/yr   \n",
       "5         UnitedHealth Group        10 salaries  ₹ 13,88,910/yr   \n",
       "6         Valiance Solutions         9 salaries   ₹ 8,18,515/yr   \n",
       "7                 Innovaccer         8 salaries  ₹ 12,01,403/yr   \n",
       "8              ZS Associates         7 salaries  ₹ 10,00,000/yr   \n",
       "9                EXL Service         7 salaries  ₹ 11,90,000/yr   \n",
       "\n",
       "  Minimum Salary Maximum Salary  \n",
       "0          ₹336L        ₹1,080L  \n",
       "1          ₹579L        ₹2,222L  \n",
       "2          ₹452L       ₹11,669L  \n",
       "3          ₹589L        ₹2,741L  \n",
       "4          ₹350L        ₹1,619L  \n",
       "5        ₹1,050L        ₹1,500L  \n",
       "6          ₹504L        ₹1,471L  \n",
       "7          ₹623L        ₹1,702L  \n",
       "8          ₹203L        ₹1,817L  \n",
       "9          ₹578L        ₹1,500L  "
      ]
     },
     "execution_count": 31,
     "metadata": {},
     "output_type": "execute_result"
    }
   ],
   "source": [
    "#creating dataframe\n",
    "df=pd.DataFrame({})\n",
    "df['Company']=company_list[0:10]\n",
    "df['Number of salaries']=sal_count_list[0:10]\n",
    "df['Average Salary']=avg_sal_list[0:10]\n",
    "df['Minimum Salary']=min_list[0:10]\n",
    "df['Maximum Salary']=max_list[0:10]\n",
    "\n",
    "df"
   ]
  },
  {
   "cell_type": "markdown",
   "metadata": {},
   "source": [
    "# Q6 : Scrape data of first 100 sunglasses listings on flipkart.com. You have to scrape four attributes:\n",
    "1. Brand\n",
    "2. Product Description\n",
    "3. Price\n",
    "4. Discount %\n"
   ]
  },
  {
   "cell_type": "code",
   "execution_count": 41,
   "metadata": {},
   "outputs": [],
   "source": [
    "#get the url of website\n",
    "driver.get(\"https://www.flipkart.com/\")"
   ]
  },
  {
   "cell_type": "code",
   "execution_count": 42,
   "metadata": {},
   "outputs": [],
   "source": [
    "#click on the cancel sign for the login pop up\n",
    "pop_up=driver.find_element_by_xpath(\"//button[@class='_2KpZ6l _2doB4z']\")\n",
    "pop_up.click()"
   ]
  },
  {
   "cell_type": "code",
   "execution_count": 43,
   "metadata": {},
   "outputs": [],
   "source": [
    "#search sunglasses\n",
    "search_bar=driver.find_element_by_name(\"q\")\n",
    "search_bar.send_keys(\"sunglasses\")\n",
    "#click on search button\n",
    "search_button=driver.find_element_by_xpath(\"//button[@class='L0Z3Pu']\")\n",
    "search_button.click()"
   ]
  },
  {
   "cell_type": "code",
   "execution_count": 49,
   "metadata": {},
   "outputs": [],
   "source": [
    "#create empty lists\n",
    "brand_list=[]\n",
    "description_list=[]\n",
    "discount_list=[]\n",
    "price_list=[]\n",
    "\n",
    "#there are 40 sunglasses on a single page & we need 100 records hence use a for loop ranging from 1 to 4\n",
    "for i in range(1,4):\n",
    "    for p in driver.find_elements_by_xpath(\"//div[@class='_2WkVRV']\"): # brand\n",
    "        brand_list.append(p.text)\n",
    "    for q in driver.find_elements_by_xpath(\"//a[@class='IRpwTa']\"): # product description\n",
    "        if q.text is None:\n",
    "            description_list.append('--')  # for some products description is missing\n",
    "        else:\n",
    "            description_list.append(q.text)\n",
    "    for r in driver.find_elements_by_xpath(\"//div[@class='_30jeq3']\"): #price\n",
    "        price_list.append(r.text)\n",
    "    for s in driver.find_elements_by_xpath(\"//div[@class='_3Ay6Sb']\"):#discount\n",
    "        discount_list.append(s.text)\n",
    "    time.sleep(3)    # allow some time for the driver to gather info\n",
    "    #url for the next page +str as the url changes for every page and i is from 1 to 4 it will take 3 pages\n",
    "    url = 'https://www.flipkart.com/search?q=sunglasses&otracker=search&otracker1=search&marketplace=FLIPKART&as-show=on&as=off&page='+str(i)\n",
    "    driver.get(url)\n",
    "    time.sleep(2)\n"
   ]
  },
  {
   "cell_type": "code",
   "execution_count": 45,
   "metadata": {},
   "outputs": [
    {
     "name": "stdout",
     "output_type": "stream",
     "text": [
      "['LIZA ANGEL', 'ROYAL SON', 'Fastrack']\n",
      "\n",
      "\n",
      "['UV Protection, Mirrored Retro Square Sunglasses (53)', 'Mirrored Aviator Sunglasses (55)', 'UV Protection Wayfarer Sunglasses (Free Size)']\n",
      "\n",
      "\n",
      "['₹269', '₹379', '₹758']\n",
      "\n",
      "\n",
      "['82% off', '74% off', '15% off']\n"
     ]
    }
   ],
   "source": [
    "#view the list contents\n",
    "print(brand_list[0:3])\n",
    "print(\"\\n\")\n",
    "print(description_list[0:3])\n",
    "print(\"\\n\")\n",
    "print(price_list[0:3])\n",
    "print(\"\\n\")\n",
    "print(discount_list[0:3])"
   ]
  },
  {
   "cell_type": "code",
   "execution_count": 50,
   "metadata": {},
   "outputs": [
    {
     "name": "stdout",
     "output_type": "stream",
     "text": [
      "120 120 120 120\n"
     ]
    }
   ],
   "source": [
    "#checking the list sizes if they are equal\n",
    "print(len(brand_list),len(description_list),len(discount_list),len(price_list))"
   ]
  },
  {
   "cell_type": "code",
   "execution_count": 51,
   "metadata": {},
   "outputs": [
    {
     "data": {
      "text/html": [
       "<div>\n",
       "<style scoped>\n",
       "    .dataframe tbody tr th:only-of-type {\n",
       "        vertical-align: middle;\n",
       "    }\n",
       "\n",
       "    .dataframe tbody tr th {\n",
       "        vertical-align: top;\n",
       "    }\n",
       "\n",
       "    .dataframe thead th {\n",
       "        text-align: right;\n",
       "    }\n",
       "</style>\n",
       "<table border=\"1\" class=\"dataframe\">\n",
       "  <thead>\n",
       "    <tr style=\"text-align: right;\">\n",
       "      <th></th>\n",
       "      <th>Brand</th>\n",
       "      <th>Product Description</th>\n",
       "      <th>Price</th>\n",
       "      <th>Discount</th>\n",
       "    </tr>\n",
       "  </thead>\n",
       "  <tbody>\n",
       "    <tr>\n",
       "      <th>0</th>\n",
       "      <td>Fastrack</td>\n",
       "      <td>UV Protection Wayfarer Sunglasses (Free Size)</td>\n",
       "      <td>₹758</td>\n",
       "      <td>15% off</td>\n",
       "    </tr>\n",
       "    <tr>\n",
       "      <th>1</th>\n",
       "      <td>Fastrack</td>\n",
       "      <td>UV Protection Rectangular Sunglasses (Free Size)</td>\n",
       "      <td>₹569</td>\n",
       "      <td>28% off</td>\n",
       "    </tr>\n",
       "    <tr>\n",
       "      <th>2</th>\n",
       "      <td>PIRASO</td>\n",
       "      <td>UV Protection Aviator Sunglasses (Free Size)</td>\n",
       "      <td>₹314</td>\n",
       "      <td>80% off</td>\n",
       "    </tr>\n",
       "    <tr>\n",
       "      <th>3</th>\n",
       "      <td>Fastrack</td>\n",
       "      <td>Mirrored, UV Protection Wayfarer Sunglasses (F...</td>\n",
       "      <td>₹499</td>\n",
       "      <td>50% off</td>\n",
       "    </tr>\n",
       "    <tr>\n",
       "      <th>4</th>\n",
       "      <td>PIRASO</td>\n",
       "      <td>UV Protection Aviator Sunglasses (54)</td>\n",
       "      <td>₹225</td>\n",
       "      <td>85% off</td>\n",
       "    </tr>\n",
       "    <tr>\n",
       "      <th>...</th>\n",
       "      <td>...</td>\n",
       "      <td>...</td>\n",
       "      <td>...</td>\n",
       "      <td>...</td>\n",
       "    </tr>\n",
       "    <tr>\n",
       "      <th>95</th>\n",
       "      <td>BKGE</td>\n",
       "      <td>UV Protection, Polarized Rectangular, Retro Sq...</td>\n",
       "      <td>₹394</td>\n",
       "      <td>78% off</td>\n",
       "    </tr>\n",
       "    <tr>\n",
       "      <th>96</th>\n",
       "      <td>Fastrack</td>\n",
       "      <td>UV Protection Aviator Sunglasses (Free Size)</td>\n",
       "      <td>₹759</td>\n",
       "      <td>15% off</td>\n",
       "    </tr>\n",
       "    <tr>\n",
       "      <th>97</th>\n",
       "      <td>ROZZETTA CRAFT</td>\n",
       "      <td>Mirrored, UV Protection Round Sunglasses (Free...</td>\n",
       "      <td>₹399</td>\n",
       "      <td>72% off</td>\n",
       "    </tr>\n",
       "    <tr>\n",
       "      <th>98</th>\n",
       "      <td>ROZZETTA CRAFT</td>\n",
       "      <td>Gradient, UV Protection Round Sunglasses (Free...</td>\n",
       "      <td>₹449</td>\n",
       "      <td>77% off</td>\n",
       "    </tr>\n",
       "    <tr>\n",
       "      <th>99</th>\n",
       "      <td>Fastrack</td>\n",
       "      <td>UV Protection Wayfarer Sunglasses (54)</td>\n",
       "      <td>₹647</td>\n",
       "      <td>28% off</td>\n",
       "    </tr>\n",
       "  </tbody>\n",
       "</table>\n",
       "<p>100 rows × 4 columns</p>\n",
       "</div>"
      ],
      "text/plain": [
       "             Brand                                Product Description Price  \\\n",
       "0         Fastrack      UV Protection Wayfarer Sunglasses (Free Size)  ₹758   \n",
       "1         Fastrack   UV Protection Rectangular Sunglasses (Free Size)  ₹569   \n",
       "2           PIRASO       UV Protection Aviator Sunglasses (Free Size)  ₹314   \n",
       "3         Fastrack  Mirrored, UV Protection Wayfarer Sunglasses (F...  ₹499   \n",
       "4           PIRASO              UV Protection Aviator Sunglasses (54)  ₹225   \n",
       "..             ...                                                ...   ...   \n",
       "95            BKGE  UV Protection, Polarized Rectangular, Retro Sq...  ₹394   \n",
       "96        Fastrack       UV Protection Aviator Sunglasses (Free Size)  ₹759   \n",
       "97  ROZZETTA CRAFT  Mirrored, UV Protection Round Sunglasses (Free...  ₹399   \n",
       "98  ROZZETTA CRAFT  Gradient, UV Protection Round Sunglasses (Free...  ₹449   \n",
       "99        Fastrack             UV Protection Wayfarer Sunglasses (54)  ₹647   \n",
       "\n",
       "   Discount  \n",
       "0   15% off  \n",
       "1   28% off  \n",
       "2   80% off  \n",
       "3   50% off  \n",
       "4   85% off  \n",
       "..      ...  \n",
       "95  78% off  \n",
       "96  15% off  \n",
       "97  72% off  \n",
       "98  77% off  \n",
       "99  28% off  \n",
       "\n",
       "[100 rows x 4 columns]"
      ]
     },
     "execution_count": 51,
     "metadata": {},
     "output_type": "execute_result"
    }
   ],
   "source": [
    "#creating dataframe\n",
    "df=pd.DataFrame({})\n",
    "df['Brand']=brand_list[0:100]  # as we want only 100 records\n",
    "df['Product Description']=description_list[0:100]\n",
    "df['Price']=price_list[0:100]\n",
    "df['Discount']=discount_list[0:100]\n",
    "df\n",
    "\n",
    "#cross checking with the website with some records\n",
    "#df.head(10)"
   ]
  },
  {
   "cell_type": "markdown",
   "metadata": {},
   "source": [
    "# Q7: Scrape 100 reviews data from flipkart.com for iphone11 phone.\n",
    "https://www.flipkart.com/apple-iphone-11-black-64-gb-includes\u0002earpods-power\u0002adapter/p/itm0f37c2240b217?pid=MOBFKCTSVZAXUHGR&lid=LSTMOBFKCTSVZAXUHGREPBFGI&marketplace.\n"
   ]
  },
  {
   "cell_type": "code",
   "execution_count": 52,
   "metadata": {},
   "outputs": [],
   "source": [
    "#pass the required url of web page that needs to be visited\n",
    "driver.get(\"https://www.flipkart.com/apple-iphone-11-black-64-gb-includes\u0002earpods-power\u0002adapter/p/itm0f37c2240b217?pid=MOBFKCTSVZAXUHGR&lid=LSTMOBFKCTSVZAXUHGREPBFGI&marketplace.\")"
   ]
  },
  {
   "cell_type": "code",
   "execution_count": 53,
   "metadata": {},
   "outputs": [],
   "source": [
    "#clicking on see all reviews\n",
    "all_button=driver.find_element_by_xpath(\"//div[@class='_3UAT2v _16PBlm']\")\n",
    "all_button.click()"
   ]
  },
  {
   "cell_type": "code",
   "execution_count": 54,
   "metadata": {},
   "outputs": [],
   "source": [
    "#running through loop to scrap 10 pages \n",
    "rating=[]\n",
    "short_review=[]\n",
    "full_review=[]\n",
    "for i in range(1,11):\n",
    "    for a in driver.find_elements_by_xpath(\"//div[@class='col _2wzgFH K0kLPL']/div[1]\"):# ratings\n",
    "        rating.append(a.text.split(\"\\n\")[0])\n",
    "    for b in driver.find_elements_by_xpath(\"//p[@class='_2-N8zT']\"): #short_review\n",
    "        short_review.append(b.text)\n",
    "    for c in driver.find_elements_by_xpath(\"//div[@class='t-ZTKy']\"): # full review\n",
    "        full_review.append(c.text.replace(\"\\n\",\" \"))\n",
    "    time.sleep(3)   \n",
    "    url=\"https://www.flipkart.com/apple-iphone-11-black-64-gb-includes-earpods-power-adapter/product-reviews/itm0f37c2240b217?pid=MOBFKCTSVZAXUHGR&lid=LSTMOBFKCTSVZAXUHGREPBFGI&marketplace=FLIPKART&page=\"+str(i)\n",
    "    driver.get(url)\n",
    "    time.sleep(3)"
   ]
  },
  {
   "cell_type": "code",
   "execution_count": 55,
   "metadata": {},
   "outputs": [
    {
     "name": "stdout",
     "output_type": "stream",
     "text": [
      "100 100 100\n"
     ]
    }
   ],
   "source": [
    "#checking the length\n",
    "print(len(rating),len(short_review),len(full_review))"
   ]
  },
  {
   "cell_type": "code",
   "execution_count": 56,
   "metadata": {},
   "outputs": [
    {
     "data": {
      "text/html": [
       "<div>\n",
       "<style scoped>\n",
       "    .dataframe tbody tr th:only-of-type {\n",
       "        vertical-align: middle;\n",
       "    }\n",
       "\n",
       "    .dataframe tbody tr th {\n",
       "        vertical-align: top;\n",
       "    }\n",
       "\n",
       "    .dataframe thead th {\n",
       "        text-align: right;\n",
       "    }\n",
       "</style>\n",
       "<table border=\"1\" class=\"dataframe\">\n",
       "  <thead>\n",
       "    <tr style=\"text-align: right;\">\n",
       "      <th></th>\n",
       "      <th>Rating</th>\n",
       "      <th>Review summary</th>\n",
       "      <th>Full review</th>\n",
       "    </tr>\n",
       "  </thead>\n",
       "  <tbody>\n",
       "    <tr>\n",
       "      <th>0</th>\n",
       "      <td>5</td>\n",
       "      <td>Brilliant</td>\n",
       "      <td>The Best Phone for the Money  The iPhone 11 of...</td>\n",
       "    </tr>\n",
       "    <tr>\n",
       "      <th>1</th>\n",
       "      <td>5</td>\n",
       "      <td>Perfect product!</td>\n",
       "      <td>Amazing phone with great cameras and better ba...</td>\n",
       "    </tr>\n",
       "    <tr>\n",
       "      <th>2</th>\n",
       "      <td>5</td>\n",
       "      <td>Great product</td>\n",
       "      <td>Amazing Powerful and Durable Gadget.  I’m am v...</td>\n",
       "    </tr>\n",
       "    <tr>\n",
       "      <th>3</th>\n",
       "      <td>5</td>\n",
       "      <td>Worth every penny</td>\n",
       "      <td>Previously I was using one plus 3t it was a gr...</td>\n",
       "    </tr>\n",
       "    <tr>\n",
       "      <th>4</th>\n",
       "      <td>5</td>\n",
       "      <td>Highly recommended</td>\n",
       "      <td>iphone 11 is a very good phone to buy only if ...</td>\n",
       "    </tr>\n",
       "    <tr>\n",
       "      <th>...</th>\n",
       "      <td>...</td>\n",
       "      <td>...</td>\n",
       "      <td>...</td>\n",
       "    </tr>\n",
       "    <tr>\n",
       "      <th>95</th>\n",
       "      <td>5</td>\n",
       "      <td>Terrific</td>\n",
       "      <td>Good buy.. working perfectly !  That was upgra...</td>\n",
       "    </tr>\n",
       "    <tr>\n",
       "      <th>96</th>\n",
       "      <td>4</td>\n",
       "      <td>Very Good</td>\n",
       "      <td>impressive super phone and best in class camer...</td>\n",
       "    </tr>\n",
       "    <tr>\n",
       "      <th>97</th>\n",
       "      <td>5</td>\n",
       "      <td>Fabulous!</td>\n",
       "      <td>Everything is perfect pictures come out so cle...</td>\n",
       "    </tr>\n",
       "    <tr>\n",
       "      <th>98</th>\n",
       "      <td>5</td>\n",
       "      <td>Terrific</td>\n",
       "      <td>I got this beast today. And I must say the pic...</td>\n",
       "    </tr>\n",
       "    <tr>\n",
       "      <th>99</th>\n",
       "      <td>5</td>\n",
       "      <td>Worth every penny</td>\n",
       "      <td>iPhone is delivered on time. Display is great ...</td>\n",
       "    </tr>\n",
       "  </tbody>\n",
       "</table>\n",
       "<p>100 rows × 3 columns</p>\n",
       "</div>"
      ],
      "text/plain": [
       "   Rating      Review summary  \\\n",
       "0       5           Brilliant   \n",
       "1       5    Perfect product!   \n",
       "2       5       Great product   \n",
       "3       5   Worth every penny   \n",
       "4       5  Highly recommended   \n",
       "..    ...                 ...   \n",
       "95      5            Terrific   \n",
       "96      4           Very Good   \n",
       "97      5           Fabulous!   \n",
       "98      5            Terrific   \n",
       "99      5   Worth every penny   \n",
       "\n",
       "                                          Full review  \n",
       "0   The Best Phone for the Money  The iPhone 11 of...  \n",
       "1   Amazing phone with great cameras and better ba...  \n",
       "2   Amazing Powerful and Durable Gadget.  I’m am v...  \n",
       "3   Previously I was using one plus 3t it was a gr...  \n",
       "4   iphone 11 is a very good phone to buy only if ...  \n",
       "..                                                ...  \n",
       "95  Good buy.. working perfectly !  That was upgra...  \n",
       "96  impressive super phone and best in class camer...  \n",
       "97  Everything is perfect pictures come out so cle...  \n",
       "98  I got this beast today. And I must say the pic...  \n",
       "99  iPhone is delivered on time. Display is great ...  \n",
       "\n",
       "[100 rows x 3 columns]"
      ]
     },
     "execution_count": 56,
     "metadata": {},
     "output_type": "execute_result"
    }
   ],
   "source": [
    "#creating dataframe\n",
    "iphone_df=pd.DataFrame({})\n",
    "iphone_df['Rating']=rating\n",
    "iphone_df[' Review summary']=short_review\n",
    "iphone_df[' Full review']=full_review\n",
    "iphone_df"
   ]
  },
  {
   "cell_type": "markdown",
   "metadata": {},
   "source": [
    "# Q8: Scrape data for first 100 sneakers you find when you visit flipkart.com and search for “sneakers” in the search field.\n",
    "You have to scrape 4 attributes of each sneaker :\n",
    "1. Brand\n",
    "2. Product Description\n",
    "3. Price\n",
    "4. discount %"
   ]
  },
  {
   "cell_type": "code",
   "execution_count": 57,
   "metadata": {},
   "outputs": [],
   "source": [
    "#enter url and open the web page\n",
    "url=\"https://www.flipkart.com/\"\n",
    "driver.get(url)"
   ]
  },
  {
   "cell_type": "code",
   "execution_count": null,
   "metadata": {},
   "outputs": [],
   "source": [
    "#close login pop up if it appears\n",
    "#cancel_button=driver.find_element_by_xpath(\"//button[@class='_2KpZ6l _2doB4z']\")\n",
    "#cancel_button.click()"
   ]
  },
  {
   "cell_type": "code",
   "execution_count": 58,
   "metadata": {},
   "outputs": [],
   "source": [
    "#search for sneakers \n",
    "search_bar=driver.find_element_by_name(\"q\")\n",
    "search_bar.send_keys(\"sneakers\")\n",
    "\n",
    "#click on search\n",
    "click_button=driver.find_element_by_xpath(\"//button[@class='L0Z3Pu']\")\n",
    "click_button.click()"
   ]
  },
  {
   "cell_type": "code",
   "execution_count": 59,
   "metadata": {},
   "outputs": [],
   "source": [
    "#capturing the data and navigating through next pages\n",
    "\n",
    "#create empty lists\n",
    "brand_list=[]\n",
    "description_list=[]\n",
    "discount_list=[]\n",
    "price_list=[]\n",
    "\n",
    "#there are 40 sunglasses on a single page & we need 100 records hence use a for loop ranging from 1 to 4\n",
    "for i in range(1,4):\n",
    "    for p in driver.find_elements_by_xpath(\"//div[@class='_2WkVRV']\"): # brand\n",
    "        brand_list.append(p.text)\n",
    "    for q in driver.find_elements_by_xpath(\"//div[@class='_2B099V']/a\"): # product description\n",
    "        if q.text is None:\n",
    "            description_list.append('--')  # for some products description is missing\n",
    "        else:\n",
    "            description_list.append(q.text)\n",
    "    for r in driver.find_elements_by_xpath(\"//div[@class='_30jeq3']\"): #price\n",
    "        price_list.append(r.text)\n",
    "    for s in driver.find_elements_by_xpath(\"//div[@class='_3Ay6Sb']\"):#discount\n",
    "        if s.text is None:\n",
    "            discount_list.append(\"--\")\n",
    "        else:    \n",
    "            discount_list.append(s.text)\n",
    "    time.sleep(3)    # allow some time for the driver to gather info\n",
    "    #url for the next page +str as the url changes for every page and i is from 1 to 4 it will take 3 pages\n",
    "    url = 'https://www.flipkart.com/search?q=sneakers&otracker=search&otracker1=search&marketplace=FLIPKART&as-show=on&as=off&page='+str(i)\n",
    "    driver.get(url)"
   ]
  },
  {
   "cell_type": "code",
   "execution_count": 60,
   "metadata": {},
   "outputs": [
    {
     "name": "stdout",
     "output_type": "stream",
     "text": [
      "120 240 120 120\n"
     ]
    }
   ],
   "source": [
    "#checking the list sizes,the description list contains various data\n",
    "print(len(brand_list),len(description_list),len(discount_list),len(price_list))"
   ]
  },
  {
   "cell_type": "markdown",
   "metadata": {},
   "source": [
    "#### extracting only description from list"
   ]
  },
  {
   "cell_type": "code",
   "execution_count": 61,
   "metadata": {},
   "outputs": [
    {
     "data": {
      "text/plain": [
       "['Men Sports Sneakers For Men',\n",
       " 'Combo Pack Of 3 Casual Sneakers For Men',\n",
       " 'Perfect & Affordable Combo Pack of 02 Pairs Sneakers Ou...',\n",
       " 'Combo Pack of 4 Casual Sneakers With Sneakers For Men']"
      ]
     },
     "execution_count": 61,
     "metadata": {},
     "output_type": "execute_result"
    }
   ],
   "source": [
    "#extracting desriptions from the list\n",
    "count=0\n",
    "desc_list=[]\n",
    "while count<len(description_list):\n",
    "    desc_list.append(description_list[count])\n",
    "    count=count+2\n",
    "desc_list[0:4]    \n"
   ]
  },
  {
   "cell_type": "code",
   "execution_count": 62,
   "metadata": {},
   "outputs": [
    {
     "data": {
      "text/html": [
       "<div>\n",
       "<style scoped>\n",
       "    .dataframe tbody tr th:only-of-type {\n",
       "        vertical-align: middle;\n",
       "    }\n",
       "\n",
       "    .dataframe tbody tr th {\n",
       "        vertical-align: top;\n",
       "    }\n",
       "\n",
       "    .dataframe thead th {\n",
       "        text-align: right;\n",
       "    }\n",
       "</style>\n",
       "<table border=\"1\" class=\"dataframe\">\n",
       "  <thead>\n",
       "    <tr style=\"text-align: right;\">\n",
       "      <th></th>\n",
       "      <th>Brand</th>\n",
       "      <th>Description</th>\n",
       "      <th>Price</th>\n",
       "      <th>Discount</th>\n",
       "    </tr>\n",
       "  </thead>\n",
       "  <tbody>\n",
       "    <tr>\n",
       "      <th>0</th>\n",
       "      <td>BRUTON</td>\n",
       "      <td>Men Sports Sneakers For Men</td>\n",
       "      <td>₹299</td>\n",
       "      <td>76% off</td>\n",
       "    </tr>\n",
       "    <tr>\n",
       "      <th>1</th>\n",
       "      <td>BRUTON</td>\n",
       "      <td>Combo Pack Of 3 Casual Sneakers For Men</td>\n",
       "      <td>₹473</td>\n",
       "      <td>81% off</td>\n",
       "    </tr>\n",
       "    <tr>\n",
       "      <th>2</th>\n",
       "      <td>Chevit</td>\n",
       "      <td>Perfect &amp; Affordable Combo Pack of 02 Pairs Sn...</td>\n",
       "      <td>₹499</td>\n",
       "      <td>72% off</td>\n",
       "    </tr>\n",
       "    <tr>\n",
       "      <th>3</th>\n",
       "      <td>Chevit</td>\n",
       "      <td>Combo Pack of 4 Casual Sneakers With Sneakers ...</td>\n",
       "      <td>₹474</td>\n",
       "      <td>76% off</td>\n",
       "    </tr>\n",
       "    <tr>\n",
       "      <th>4</th>\n",
       "      <td>Robbie jones</td>\n",
       "      <td>Casual Sneakers Shoes For Men Sneakers For Men</td>\n",
       "      <td>₹360</td>\n",
       "      <td>63% off</td>\n",
       "    </tr>\n",
       "    <tr>\n",
       "      <th>...</th>\n",
       "      <td>...</td>\n",
       "      <td>...</td>\n",
       "      <td>...</td>\n",
       "      <td>...</td>\n",
       "    </tr>\n",
       "    <tr>\n",
       "      <th>95</th>\n",
       "      <td>Chevit</td>\n",
       "      <td>Super 445 Fashion Sneakers For Men</td>\n",
       "      <td>₹369</td>\n",
       "      <td>26% off</td>\n",
       "    </tr>\n",
       "    <tr>\n",
       "      <th>96</th>\n",
       "      <td>Chevit</td>\n",
       "      <td>Speed Set of 5 Pairs Sneakers Outdoors Casuals...</td>\n",
       "      <td>₹759</td>\n",
       "      <td>69% off</td>\n",
       "    </tr>\n",
       "    <tr>\n",
       "      <th>97</th>\n",
       "      <td>Axter</td>\n",
       "      <td>Combo Pack of 2 Casual Loafer Sneakers Shoes S...</td>\n",
       "      <td>₹299</td>\n",
       "      <td>70% off</td>\n",
       "    </tr>\n",
       "    <tr>\n",
       "      <th>98</th>\n",
       "      <td>BLACK BOTTOM</td>\n",
       "      <td>Fashion Outdoor Canvas Casual Light Weight Par...</td>\n",
       "      <td>₹449</td>\n",
       "      <td>55% off</td>\n",
       "    </tr>\n",
       "    <tr>\n",
       "      <th>99</th>\n",
       "      <td>KLICKER</td>\n",
       "      <td>Pro Flex Sports Sneakers NCS1 Sneakers For Men</td>\n",
       "      <td>₹359</td>\n",
       "      <td>77% off</td>\n",
       "    </tr>\n",
       "  </tbody>\n",
       "</table>\n",
       "<p>100 rows × 4 columns</p>\n",
       "</div>"
      ],
      "text/plain": [
       "           Brand                                        Description Price  \\\n",
       "0         BRUTON                        Men Sports Sneakers For Men  ₹299   \n",
       "1         BRUTON            Combo Pack Of 3 Casual Sneakers For Men  ₹473   \n",
       "2         Chevit  Perfect & Affordable Combo Pack of 02 Pairs Sn...  ₹499   \n",
       "3         Chevit  Combo Pack of 4 Casual Sneakers With Sneakers ...  ₹474   \n",
       "4   Robbie jones     Casual Sneakers Shoes For Men Sneakers For Men  ₹360   \n",
       "..           ...                                                ...   ...   \n",
       "95        Chevit                 Super 445 Fashion Sneakers For Men  ₹369   \n",
       "96        Chevit  Speed Set of 5 Pairs Sneakers Outdoors Casuals...  ₹759   \n",
       "97         Axter  Combo Pack of 2 Casual Loafer Sneakers Shoes S...  ₹299   \n",
       "98  BLACK BOTTOM  Fashion Outdoor Canvas Casual Light Weight Par...  ₹449   \n",
       "99       KLICKER     Pro Flex Sports Sneakers NCS1 Sneakers For Men  ₹359   \n",
       "\n",
       "   Discount  \n",
       "0   76% off  \n",
       "1   81% off  \n",
       "2   72% off  \n",
       "3   76% off  \n",
       "4   63% off  \n",
       "..      ...  \n",
       "95  26% off  \n",
       "96  69% off  \n",
       "97  70% off  \n",
       "98  55% off  \n",
       "99  77% off  \n",
       "\n",
       "[100 rows x 4 columns]"
      ]
     },
     "execution_count": 62,
     "metadata": {},
     "output_type": "execute_result"
    }
   ],
   "source": [
    "#creating dataframe\n",
    "df=pd.DataFrame({})\n",
    "df['Brand']=brand_list[0:100]\n",
    "df['Description']=desc_list[0:100]\n",
    "df['Price']=price_list[0:100]\n",
    "df['Discount']=discount_list[0:100]\n",
    "df"
   ]
  },
  {
   "cell_type": "markdown",
   "metadata": {},
   "source": [
    "# Q 9 ) Go to the link - https://www.myntra.com/shoes Set Price filter to “Rs. 6649 to Rs. 13099” , Color filter to “Black”,\n",
    "scrape First 100 shoes data you get. \n",
    "The data should include “Brand” of the shoes , Short Shoe description, price of the shoe"
   ]
  },
  {
   "cell_type": "code",
   "execution_count": 68,
   "metadata": {},
   "outputs": [],
   "source": [
    "#passing the web page address\n",
    "driver.get(\"https://www.myntra.com/shoes\")"
   ]
  },
  {
   "cell_type": "code",
   "execution_count": 69,
   "metadata": {},
   "outputs": [],
   "source": [
    "#applying color filter\n",
    "color_filter=driver.find_element_by_xpath(\"//label[@class='common-customCheckbox']\")\n",
    "color_filter.click()"
   ]
  },
  {
   "cell_type": "code",
   "execution_count": 70,
   "metadata": {},
   "outputs": [],
   "source": [
    "#applying price filter\n",
    "price_filter=driver.find_element_by_xpath(\"//ul[@class='price-list']/li[2]\")\n",
    "price_filter.click()"
   ]
  },
  {
   "cell_type": "code",
   "execution_count": 71,
   "metadata": {},
   "outputs": [],
   "source": [
    "#running through a loop\n",
    "\n",
    "# step 1: create empty list\n",
    "brand=[]\n",
    "description=[]\n",
    "price=[]\n",
    "\n",
    "for i in range(0,2):\n",
    "    #brand\n",
    "    for x in driver.find_elements_by_xpath(\"//div[@class='product-productMetaInfo']/h3\"):\n",
    "            brand.append(x.text)\n",
    "    \n",
    "    #description\n",
    "    for y in driver.find_elements_by_xpath(\"//h4[@class='product-product']\"):\n",
    "        description.append(y.text)\n",
    "        \n",
    "    #price\n",
    "    for z in driver.find_elements_by_xpath(\"//div[@class='product-price']\"):\n",
    "        price.append(z.text.split(\".\")[1].replace(\"Rs\",\"\"))\n",
    "    time.sleep(5)\n",
    "    \n",
    "    # click on next button\n",
    "    \n",
    "    next_button=driver.find_element_by_xpath(\"//li[@class='pagination-next']\")\n",
    "    next_button.click()\n",
    "    time.sleep(3)"
   ]
  },
  {
   "cell_type": "code",
   "execution_count": 72,
   "metadata": {},
   "outputs": [
    {
     "name": "stdout",
     "output_type": "stream",
     "text": [
      "100 100 100\n"
     ]
    }
   ],
   "source": [
    "#view the length of all collected data\n",
    "print(len(price),len(description),len(brand))"
   ]
  },
  {
   "cell_type": "code",
   "execution_count": 73,
   "metadata": {},
   "outputs": [
    {
     "data": {
      "text/html": [
       "<div>\n",
       "<style scoped>\n",
       "    .dataframe tbody tr th:only-of-type {\n",
       "        vertical-align: middle;\n",
       "    }\n",
       "\n",
       "    .dataframe tbody tr th {\n",
       "        vertical-align: top;\n",
       "    }\n",
       "\n",
       "    .dataframe thead th {\n",
       "        text-align: right;\n",
       "    }\n",
       "</style>\n",
       "<table border=\"1\" class=\"dataframe\">\n",
       "  <thead>\n",
       "    <tr style=\"text-align: right;\">\n",
       "      <th></th>\n",
       "      <th>Brand</th>\n",
       "      <th>Description</th>\n",
       "      <th>Price in Rupees</th>\n",
       "    </tr>\n",
       "  </thead>\n",
       "  <tbody>\n",
       "    <tr>\n",
       "      <th>0</th>\n",
       "      <td>Nike</td>\n",
       "      <td>Men React Infinity Running</td>\n",
       "      <td>12396</td>\n",
       "    </tr>\n",
       "    <tr>\n",
       "      <th>1</th>\n",
       "      <td>Nike</td>\n",
       "      <td>Men AIR MAX VOLLEY Tennis</td>\n",
       "      <td>6965</td>\n",
       "    </tr>\n",
       "    <tr>\n",
       "      <th>2</th>\n",
       "      <td>Bugatti</td>\n",
       "      <td>Men Solid Casual Sneakers</td>\n",
       "      <td>8999</td>\n",
       "    </tr>\n",
       "    <tr>\n",
       "      <th>3</th>\n",
       "      <td>Nike</td>\n",
       "      <td>Men AIR ZOOM Running Shoes</td>\n",
       "      <td>11470</td>\n",
       "    </tr>\n",
       "    <tr>\n",
       "      <th>4</th>\n",
       "      <td>Nike</td>\n",
       "      <td>Women AIR ZOOM Running Shoes</td>\n",
       "      <td>7996</td>\n",
       "    </tr>\n",
       "    <tr>\n",
       "      <th>...</th>\n",
       "      <td>...</td>\n",
       "      <td>...</td>\n",
       "      <td>...</td>\n",
       "    </tr>\n",
       "    <tr>\n",
       "      <th>95</th>\n",
       "      <td>Geox</td>\n",
       "      <td>Women Leather Block Heels</td>\n",
       "      <td>9990</td>\n",
       "    </tr>\n",
       "    <tr>\n",
       "      <th>96</th>\n",
       "      <td>Ruosh</td>\n",
       "      <td>Men Leather Slip-On Shoes</td>\n",
       "      <td>6990</td>\n",
       "    </tr>\n",
       "    <tr>\n",
       "      <th>97</th>\n",
       "      <td>Bugatti</td>\n",
       "      <td>Women Black Sneakers</td>\n",
       "      <td>7999</td>\n",
       "    </tr>\n",
       "    <tr>\n",
       "      <th>98</th>\n",
       "      <td>Saint G</td>\n",
       "      <td>Women Leather Heeled Boots</td>\n",
       "      <td>9900</td>\n",
       "    </tr>\n",
       "    <tr>\n",
       "      <th>99</th>\n",
       "      <td>Heel &amp; Buckle London</td>\n",
       "      <td>Men Leather Monk Shoes</td>\n",
       "      <td>9793</td>\n",
       "    </tr>\n",
       "  </tbody>\n",
       "</table>\n",
       "<p>100 rows × 3 columns</p>\n",
       "</div>"
      ],
      "text/plain": [
       "                   Brand                   Description Price in Rupees\n",
       "0                   Nike    Men React Infinity Running           12396\n",
       "1                   Nike     Men AIR MAX VOLLEY Tennis            6965\n",
       "2                Bugatti     Men Solid Casual Sneakers            8999\n",
       "3                   Nike    Men AIR ZOOM Running Shoes           11470\n",
       "4                   Nike  Women AIR ZOOM Running Shoes            7996\n",
       "..                   ...                           ...             ...\n",
       "95                  Geox     Women Leather Block Heels            9990\n",
       "96                 Ruosh     Men Leather Slip-On Shoes            6990\n",
       "97               Bugatti          Women Black Sneakers            7999\n",
       "98               Saint G    Women Leather Heeled Boots            9900\n",
       "99  Heel & Buckle London        Men Leather Monk Shoes            9793\n",
       "\n",
       "[100 rows x 3 columns]"
      ]
     },
     "execution_count": 73,
     "metadata": {},
     "output_type": "execute_result"
    }
   ],
   "source": [
    "#create dataframe\n",
    "shoe_df=pd.DataFrame({})\n",
    "shoe_df['Brand']=brand\n",
    "shoe_df['Description']=description\n",
    "shoe_df['Price in Rupees']=price\n",
    "shoe_df\n",
    "\n",
    "#close the driver\n",
    "#driver.close()"
   ]
  },
  {
   "cell_type": "markdown",
   "metadata": {},
   "source": [
    "# Q 10 )Go to webpage https://www.amazon.in/Enter “Laptop” in the search field and then click the search icon.\n",
    "Then set CPU Type filter to “Intel Core i7” and “Intel Core i9” \n",
    "\n",
    "#### After setting the filters scrape first 10 laptops data. You have to scrape 3 attributes \n",
    "for each laptop:\n",
    "    \n",
    "1. title\n",
    "\n",
    "2. Ratings\n",
    "\n",
    "3. Price"
   ]
  },
  {
   "cell_type": "code",
   "execution_count": 4,
   "metadata": {},
   "outputs": [],
   "source": [
    "# step 1:pass the url that we need to visit\n",
    "driver.get(\"https://www.amazon.in/\")"
   ]
  },
  {
   "cell_type": "code",
   "execution_count": 5,
   "metadata": {},
   "outputs": [],
   "source": [
    "#typing as laptop in search bar\n",
    "search_product=driver.find_element_by_id(\"twotabsearchtextbox\")\n",
    "search_product.send_keys(\"laptop\")\n",
    "\n",
    "#click on the search button\n",
    "search_button=driver.find_element_by_id(\"nav-search-submit-button\")\n",
    "search_button.click()"
   ]
  },
  {
   "cell_type": "code",
   "execution_count": 6,
   "metadata": {},
   "outputs": [],
   "source": [
    "#click the checkbox for filter intel core i7\n",
    "core7=driver.find_element_by_xpath(\"//li[@id='p_n_feature_thirteen_browse-bin/12598163031']/span/a/span\")\n",
    "core7.click() "
   ]
  },
  {
   "cell_type": "code",
   "execution_count": 7,
   "metadata": {},
   "outputs": [],
   "source": [
    "#click the checkbox for filter intel core i9\n",
    "core9=driver.find_element_by_xpath(\"//*[@id='p_n_feature_thirteen_browse-bin/16757432031']/span/a/span\")\n",
    "core9.text\n",
    "core9.click()"
   ]
  },
  {
   "cell_type": "markdown",
   "metadata": {},
   "source": [
    "url = https://www.amazon.in/s?k=laptop&i=computers&rh=n%3A1375424031%2Cp_n_feature_thirteen_browse-bin%3A12598163031%7C16757432031&dc&qid=1617348088&rnid=12598141031&ref=sr_nr_p_n_feature_thirteen_browse-bin_17"
   ]
  },
  {
   "cell_type": "code",
   "execution_count": 8,
   "metadata": {},
   "outputs": [
    {
     "data": {
      "text/plain": [
       "['Lenovo IdeaPad Flex 5 11th Gen Intel Core i7 14-inch FHD IPS 2-in-1 Touchscreen Laptop (16GB/512GB SSD/Win 10/Office 2019/Lenovo Digital Pen Stylus/Fingerprint Reader/Graphite Grey/1.5Kg), 82HS0092IN',\n",
       " 'Lenovo Yoga 9 11th Gen Intel Core i7 14-inch 4K Ultra HD IPS 2-in-1 Touchscreen Laptop (16GB/1TB SSD/Windows 10/MS Office 2019/Fingerprint Reader/Shadow Black/Leather Surface/1.44Kg), 82BG005JIN']"
      ]
     },
     "execution_count": 8,
     "metadata": {},
     "output_type": "execute_result"
    }
   ],
   "source": [
    "#title of the laptops\n",
    "title=driver.find_elements_by_xpath(\"//span[@class='a-size-medium a-color-base a-text-normal']\")\n",
    "title_list=[]\n",
    "for i in title:\n",
    "    title_list.append(i.text)\n",
    "title_list[0:2]"
   ]
  },
  {
   "cell_type": "code",
   "execution_count": 9,
   "metadata": {},
   "outputs": [
    {
     "data": {
      "text/plain": [
       "['83,990', '1,67,990']"
      ]
     },
     "execution_count": 9,
     "metadata": {},
     "output_type": "execute_result"
    }
   ],
   "source": [
    "#prices of the laptops\n",
    "price=driver.find_elements_by_xpath(\"//span[@class='a-price-whole']\")\n",
    "price_list=[]\n",
    "for i in price:\n",
    "    price_list.append(i.text)\n",
    "price_list[0:2]"
   ]
  },
  {
   "cell_type": "code",
   "execution_count": 10,
   "metadata": {},
   "outputs": [
    {
     "data": {
      "text/plain": [
       "['5.0 out of 5 stars', '5.0 out of 5 stars', '4.6 out of 5 stars']"
      ]
     },
     "execution_count": 10,
     "metadata": {},
     "output_type": "execute_result"
    }
   ],
   "source": [
    "#ratings \n",
    "rating=driver.find_elements_by_xpath(\"//a[@class='a-popover-trigger a-declarative']\")\n",
    "rating_list=[]\n",
    "for i in rating:\n",
    "    if i.text is None:\n",
    "        rating_list.append(\"--\")\n",
    "    else:\n",
    "        rating_list.append(i.get_attribute(\"text\"))\n",
    "rating_list[0:3]"
   ]
  },
  {
   "cell_type": "code",
   "execution_count": 12,
   "metadata": {},
   "outputs": [
    {
     "name": "stdout",
     "output_type": "stream",
     "text": [
      "21 27 27\n"
     ]
    }
   ],
   "source": [
    "print(len(rating_list),len(price_list),len(title_list))"
   ]
  },
  {
   "cell_type": "markdown",
   "metadata": {},
   "source": [
    "#### Few laptops (after 1st 14 ) do not have the ratings but as we are interested in only top 10 and the ratings are scrapped successfully we shall proceed with creating the dataset"
   ]
  },
  {
   "cell_type": "code",
   "execution_count": 14,
   "metadata": {},
   "outputs": [
    {
     "data": {
      "text/html": [
       "<div>\n",
       "<style scoped>\n",
       "    .dataframe tbody tr th:only-of-type {\n",
       "        vertical-align: middle;\n",
       "    }\n",
       "\n",
       "    .dataframe tbody tr th {\n",
       "        vertical-align: top;\n",
       "    }\n",
       "\n",
       "    .dataframe thead th {\n",
       "        text-align: right;\n",
       "    }\n",
       "</style>\n",
       "<table border=\"1\" class=\"dataframe\">\n",
       "  <thead>\n",
       "    <tr style=\"text-align: right;\">\n",
       "      <th></th>\n",
       "      <th>Title</th>\n",
       "      <th>Rating</th>\n",
       "      <th>Price</th>\n",
       "    </tr>\n",
       "  </thead>\n",
       "  <tbody>\n",
       "    <tr>\n",
       "      <th>0</th>\n",
       "      <td>Lenovo IdeaPad Flex 5 11th Gen Intel Core i7 1...</td>\n",
       "      <td>5.0 out of 5 stars</td>\n",
       "      <td>83,990</td>\n",
       "    </tr>\n",
       "    <tr>\n",
       "      <th>1</th>\n",
       "      <td>Lenovo Yoga 9 11th Gen Intel Core i7 14-inch 4...</td>\n",
       "      <td>5.0 out of 5 stars</td>\n",
       "      <td>1,67,990</td>\n",
       "    </tr>\n",
       "    <tr>\n",
       "      <th>2</th>\n",
       "      <td>HP 14 Thin &amp; Light 14-inch FHD Laptop (11th Ge...</td>\n",
       "      <td>4.6 out of 5 stars</td>\n",
       "      <td>75,993</td>\n",
       "    </tr>\n",
       "    <tr>\n",
       "      <th>3</th>\n",
       "      <td>Mi Notebook Horizon Edition 14 Intel Core i5-1...</td>\n",
       "      <td>4.3 out of 5 stars</td>\n",
       "      <td>53,962</td>\n",
       "    </tr>\n",
       "    <tr>\n",
       "      <th>4</th>\n",
       "      <td>Dell Alienware m15(R3) 15.6-inch FHD Gaming La...</td>\n",
       "      <td>2.7 out of 5 stars</td>\n",
       "      <td>1,98,590</td>\n",
       "    </tr>\n",
       "    <tr>\n",
       "      <th>5</th>\n",
       "      <td>Lenovo Legion Y540 Intel Core i7 9th Gen 15.6 ...</td>\n",
       "      <td>4.1 out of 5 stars</td>\n",
       "      <td>78,990</td>\n",
       "    </tr>\n",
       "    <tr>\n",
       "      <th>6</th>\n",
       "      <td>ASUS ZenBook Pro Duo Intel Core i9-10980HK 10t...</td>\n",
       "      <td>3.3 out of 5 stars</td>\n",
       "      <td>2,59,990</td>\n",
       "    </tr>\n",
       "    <tr>\n",
       "      <th>7</th>\n",
       "      <td>(Renewed) Dell Inspiron 5501 15.6 Inch FHD Lap...</td>\n",
       "      <td>5.0 out of 5 stars</td>\n",
       "      <td>75,990</td>\n",
       "    </tr>\n",
       "    <tr>\n",
       "      <th>8</th>\n",
       "      <td>ASUS ROG G703GI-E5148T 17.3-inch FHD 144Hz/3ms...</td>\n",
       "      <td>3.9 out of 5 stars</td>\n",
       "      <td>5,22,077</td>\n",
       "    </tr>\n",
       "    <tr>\n",
       "      <th>9</th>\n",
       "      <td>Lenovo Legion 5Pi 10th Gen Intel Core i7 15.6\"...</td>\n",
       "      <td>4.3 out of 5 stars</td>\n",
       "      <td>1,35,490</td>\n",
       "    </tr>\n",
       "  </tbody>\n",
       "</table>\n",
       "</div>"
      ],
      "text/plain": [
       "                                               Title              Rating  \\\n",
       "0  Lenovo IdeaPad Flex 5 11th Gen Intel Core i7 1...  5.0 out of 5 stars   \n",
       "1  Lenovo Yoga 9 11th Gen Intel Core i7 14-inch 4...  5.0 out of 5 stars   \n",
       "2  HP 14 Thin & Light 14-inch FHD Laptop (11th Ge...  4.6 out of 5 stars   \n",
       "3  Mi Notebook Horizon Edition 14 Intel Core i5-1...  4.3 out of 5 stars   \n",
       "4  Dell Alienware m15(R3) 15.6-inch FHD Gaming La...  2.7 out of 5 stars   \n",
       "5  Lenovo Legion Y540 Intel Core i7 9th Gen 15.6 ...  4.1 out of 5 stars   \n",
       "6  ASUS ZenBook Pro Duo Intel Core i9-10980HK 10t...  3.3 out of 5 stars   \n",
       "7  (Renewed) Dell Inspiron 5501 15.6 Inch FHD Lap...  5.0 out of 5 stars   \n",
       "8  ASUS ROG G703GI-E5148T 17.3-inch FHD 144Hz/3ms...  3.9 out of 5 stars   \n",
       "9  Lenovo Legion 5Pi 10th Gen Intel Core i7 15.6\"...  4.3 out of 5 stars   \n",
       "\n",
       "      Price  \n",
       "0    83,990  \n",
       "1  1,67,990  \n",
       "2    75,993  \n",
       "3    53,962  \n",
       "4  1,98,590  \n",
       "5    78,990  \n",
       "6  2,59,990  \n",
       "7    75,990  \n",
       "8  5,22,077  \n",
       "9  1,35,490  "
      ]
     },
     "execution_count": 14,
     "metadata": {},
     "output_type": "execute_result"
    }
   ],
   "source": [
    "laptop_df=pd.DataFrame({})\n",
    "laptop_df['Title']=title_list[0:10]\n",
    "laptop_df['Rating']=rating_list[0:10]\n",
    "laptop_df['Price']=price_list[0:10]\n",
    "laptop_df"
   ]
  },
  {
   "cell_type": "markdown",
   "metadata": {},
   "source": [
    "# Exception Handling for question 10"
   ]
  },
  {
   "cell_type": "code",
   "execution_count": 1,
   "metadata": {},
   "outputs": [],
   "source": [
    "#import required libraries\n",
    "from selenium import webdriver\n",
    "import pandas as pd\n",
    "import time\n",
    "from selenium.common.exceptions import NoSuchElementException\n"
   ]
  },
  {
   "cell_type": "code",
   "execution_count": 2,
   "metadata": {},
   "outputs": [],
   "source": [
    "# opening the url\n",
    "driver=webdriver.Chrome(r\"C://ChromeDriver.exe\")\n",
    "driver.get(\"https://www.amazon.in/\")\n",
    "driver.maximize_window()"
   ]
  },
  {
   "cell_type": "code",
   "execution_count": 3,
   "metadata": {},
   "outputs": [],
   "source": [
    "#search bar\n",
    "search_bar=driver.find_element_by_id(\"twotabsearchtextbox\")\n",
    "search_bar.send_keys(\"laptops\")\n",
    "#click on seacrh button\n",
    "click_button=driver.find_element_by_id(\"nav-search-submit-button\")\n",
    "click_button.click()"
   ]
  },
  {
   "cell_type": "code",
   "execution_count": 4,
   "metadata": {},
   "outputs": [],
   "source": [
    "#applying i7 filter\n",
    "filter_button=driver.find_elements_by_xpath(\"//a[@class='a-link-normal s-navigation-item']/span\")\n",
    "for i in filter_button:\n",
    "    if i.text=='Intel Core i7':\n",
    "        i.click()\n",
    "        break                         "
   ]
  },
  {
   "cell_type": "code",
   "execution_count": 5,
   "metadata": {},
   "outputs": [],
   "source": [
    "#applying i9 filter\n",
    "filter_button2=driver.find_elements_by_xpath(\"//a[@class='a-link-normal s-navigation-item']/span\")\n",
    "for a in filter_button2:\n",
    "    if a.text=='Intel Core i9':\n",
    "        a.click()\n",
    "        break                         "
   ]
  },
  {
   "cell_type": "code",
   "execution_count": 6,
   "metadata": {},
   "outputs": [
    {
     "data": {
      "text/plain": [
       "['Mi Notebook Horizon Edition 14 Intel Core i5-10210U 10th Gen Thin and Light Laptop(8GB/512GB SSD/Windows 10/Nvidia MX350 2GB Graphics/Grey/1.35Kg), XMA1904-AR+Webcam',\n",
       " '(Renewed) HP ZBook 15 G3 Mobile Workstation - 15.6\" - Core i7 (6700HQ) - 8 GB RAM - 1TB SSD : BLUETOOTH : 2GB DEDICATED GRAPHIC : NUMERIC KEYBOARD']"
      ]
     },
     "execution_count": 6,
     "metadata": {},
     "output_type": "execute_result"
    }
   ],
   "source": [
    "#title of the laptops\n",
    "title=driver.find_elements_by_xpath(\"//span[@class='a-size-medium a-color-base a-text-normal']\")\n",
    "title_list=[]\n",
    "for i in title:\n",
    "    title_list.append(i.text)\n",
    "title_list[0:2]"
   ]
  },
  {
   "cell_type": "code",
   "execution_count": 7,
   "metadata": {},
   "outputs": [
    {
     "data": {
      "text/plain": [
       "26"
      ]
     },
     "execution_count": 7,
     "metadata": {},
     "output_type": "execute_result"
    }
   ],
   "source": [
    "len(title_list)"
   ]
  },
  {
   "cell_type": "code",
   "execution_count": 8,
   "metadata": {},
   "outputs": [],
   "source": [
    "#extracting prices\n",
    "link_list=[]\n",
    "pricing=[]\n",
    "#getting url of each laptop\n",
    "urls=driver.find_elements_by_xpath(\"//a[@class='a-link-normal a-text-normal']\")\n",
    "for x in urls:\n",
    "    link_list.append(x.get_attribute(\"href\"))\n",
    "#another loop to visit all urls \n",
    "for y in link_list:\n",
    "    driver.get(y)\n",
    "    try:      #exception handling \n",
    "        price=driver.find_element_by_xpath(\"//span[@class='a-size-medium a-color-price priceBlockBuyingPriceString']\")   \n",
    "        pricing.append(price.text)\n",
    "    except NoSuchElementException as e:\n",
    "        pricing.append(\"No price\")"
   ]
  },
  {
   "cell_type": "code",
   "execution_count": 9,
   "metadata": {},
   "outputs": [
    {
     "data": {
      "text/plain": [
       "26"
      ]
     },
     "execution_count": 9,
     "metadata": {},
     "output_type": "execute_result"
    }
   ],
   "source": [
    "len(pricing)"
   ]
  },
  {
   "cell_type": "code",
   "execution_count": 10,
   "metadata": {},
   "outputs": [],
   "source": [
    "#going back to first page\n",
    "driver.get(\"https://www.amazon.in/s?k=laptops&i=computers&rh=n%3A1375424031%2Cp_n_feature_thirteen_browse-bin%3A12598163031%7C16757432031&dc&qid=1617609189&rnid=12598141031&ref=sr_nr_p_n_feature_thirteen_browse-bin_17\")"
   ]
  },
  {
   "cell_type": "code",
   "execution_count": 11,
   "metadata": {},
   "outputs": [],
   "source": [
    "#exception handling for ratings\n",
    "#steps\n",
    "#1 ) get the urls of each laptop\n",
    "#2) visit each url\n",
    "#3) go to rating\n",
    "#4) fetch Rating\n",
    "\n",
    "UR=[]\n",
    "Ratings=[]\n",
    "#getting url of each laptop\n",
    "urls=driver.find_elements_by_xpath(\"//a[@class='a-link-normal a-text-normal']\")\n",
    "for i in urls:\n",
    "    UR.append(i.get_attribute(\"href\"))\n",
    "#another loop to visit all urls \n",
    "for k in UR:\n",
    "    driver.get(k)\n",
    "    try:      #exception handling \n",
    "        rate=driver.find_element_by_xpath(\"//span[@id='acrCustomerReviewText']\")   \n",
    "        rate.click()  #clicking on ratings\n",
    "        rating=driver.find_element_by_xpath(\"//span[@class='a-size-medium a-color-base']\")\n",
    "        Ratings.append(rating.text)\n",
    "    except NoSuchElementException as e:\n",
    "        Ratings.append(\"No ratings\")"
   ]
  },
  {
   "cell_type": "code",
   "execution_count": 12,
   "metadata": {},
   "outputs": [
    {
     "name": "stdout",
     "output_type": "stream",
     "text": [
      "26 26 26\n"
     ]
    }
   ],
   "source": [
    "print(len(Ratings),len(pricing),len(title_list))"
   ]
  },
  {
   "cell_type": "code",
   "execution_count": 14,
   "metadata": {},
   "outputs": [
    {
     "data": {
      "text/html": [
       "<div>\n",
       "<style scoped>\n",
       "    .dataframe tbody tr th:only-of-type {\n",
       "        vertical-align: middle;\n",
       "    }\n",
       "\n",
       "    .dataframe tbody tr th {\n",
       "        vertical-align: top;\n",
       "    }\n",
       "\n",
       "    .dataframe thead th {\n",
       "        text-align: right;\n",
       "    }\n",
       "</style>\n",
       "<table border=\"1\" class=\"dataframe\">\n",
       "  <thead>\n",
       "    <tr style=\"text-align: right;\">\n",
       "      <th></th>\n",
       "      <th>Title</th>\n",
       "      <th>Rating</th>\n",
       "      <th>Price</th>\n",
       "    </tr>\n",
       "  </thead>\n",
       "  <tbody>\n",
       "    <tr>\n",
       "      <th>0</th>\n",
       "      <td>Mi Notebook Horizon Edition 14 Intel Core i5-1...</td>\n",
       "      <td>4.3 out of 5</td>\n",
       "      <td>₹ 54,999.00</td>\n",
       "    </tr>\n",
       "    <tr>\n",
       "      <th>1</th>\n",
       "      <td>(Renewed) HP ZBook 15 G3 Mobile Workstation - ...</td>\n",
       "      <td>No ratings</td>\n",
       "      <td>₹ 68,990.00</td>\n",
       "    </tr>\n",
       "    <tr>\n",
       "      <th>2</th>\n",
       "      <td>HP Pavilion Gaming 11th Gen Intel Core i7 Proc...</td>\n",
       "      <td>No ratings</td>\n",
       "      <td>₹ 89,900.00</td>\n",
       "    </tr>\n",
       "    <tr>\n",
       "      <th>3</th>\n",
       "      <td>HP Envy 11th Gen Core i7 Processor 13.3-inch F...</td>\n",
       "      <td>No ratings</td>\n",
       "      <td>₹ 1,32,519.00</td>\n",
       "    </tr>\n",
       "    <tr>\n",
       "      <th>4</th>\n",
       "      <td>(Renewed) Lenovo Thinkpad Yoga S1 Laptop (CORE...</td>\n",
       "      <td>No ratings</td>\n",
       "      <td>₹ 38,990.00</td>\n",
       "    </tr>\n",
       "    <tr>\n",
       "      <th>5</th>\n",
       "      <td>ASUS ROG G703GI-E5148T 17.3-inch FHD 144Hz/3ms...</td>\n",
       "      <td>No ratings</td>\n",
       "      <td>₹ 5,22,077.00</td>\n",
       "    </tr>\n",
       "    <tr>\n",
       "      <th>6</th>\n",
       "      <td>HP Pavilion Gaming 11th Gen Intel Core i7 Proc...</td>\n",
       "      <td>No ratings</td>\n",
       "      <td>₹ 83,077.00</td>\n",
       "    </tr>\n",
       "    <tr>\n",
       "      <th>7</th>\n",
       "      <td>(Renewed) HP EliteBook 820 G4 Laptop (CORE I5 ...</td>\n",
       "      <td>1 out of 5</td>\n",
       "      <td>₹ 36,490.00</td>\n",
       "    </tr>\n",
       "    <tr>\n",
       "      <th>8</th>\n",
       "      <td>ASUS VivoBook S S14 Intel Core i7-1165G7 11th ...</td>\n",
       "      <td>3.9 out of 5</td>\n",
       "      <td>₹ 77,990.00</td>\n",
       "    </tr>\n",
       "    <tr>\n",
       "      <th>9</th>\n",
       "      <td>Mi Notebook Horizon Edition 14 Intel Core i7-1...</td>\n",
       "      <td>No ratings</td>\n",
       "      <td>₹ 59,999.00</td>\n",
       "    </tr>\n",
       "    <tr>\n",
       "      <th>10</th>\n",
       "      <td>HP 14 Thin &amp; Light 14-inch FHD Laptop (11th Ge...</td>\n",
       "      <td>No ratings</td>\n",
       "      <td>₹ 76,500.00</td>\n",
       "    </tr>\n",
       "    <tr>\n",
       "      <th>11</th>\n",
       "      <td>Intel Core I7/16GB Ram/120GB SSD / 2TB Hard Di...</td>\n",
       "      <td>4.3 out of 5</td>\n",
       "      <td>₹ 28,999.00</td>\n",
       "    </tr>\n",
       "    <tr>\n",
       "      <th>12</th>\n",
       "      <td>Lenovo IdeaPad Flex 5 11th Gen Intel Core i7 1...</td>\n",
       "      <td>4.3 out of 5</td>\n",
       "      <td>No price</td>\n",
       "    </tr>\n",
       "    <tr>\n",
       "      <th>13</th>\n",
       "      <td>ASUS TUF Gaming F15, 15.6\" FHD 144Hz, Intel Co...</td>\n",
       "      <td>4.6 out of 5</td>\n",
       "      <td>₹ 85,990.00</td>\n",
       "    </tr>\n",
       "    <tr>\n",
       "      <th>14</th>\n",
       "      <td>Lenovo IdeaPad Gaming 3 10th Gen Intel Core i7...</td>\n",
       "      <td>No ratings</td>\n",
       "      <td>₹ 76,990.00</td>\n",
       "    </tr>\n",
       "    <tr>\n",
       "      <th>15</th>\n",
       "      <td>(Renewed) DELL Latitude E6540 15.6-inch Laptop...</td>\n",
       "      <td>5 out of 5</td>\n",
       "      <td>₹ 38,999.00</td>\n",
       "    </tr>\n",
       "    <tr>\n",
       "      <th>16</th>\n",
       "      <td>MSI GF63 Thin Core i7 9th Gen - (8 GB/512 GB S...</td>\n",
       "      <td>4.5 out of 5</td>\n",
       "      <td>₹ 66,990.00</td>\n",
       "    </tr>\n",
       "    <tr>\n",
       "      <th>17</th>\n",
       "      <td>Lenovo Legion 5 10th Gen Intel Core i7 15.6 in...</td>\n",
       "      <td>No ratings</td>\n",
       "      <td>No price</td>\n",
       "    </tr>\n",
       "    <tr>\n",
       "      <th>18</th>\n",
       "      <td>Dell Inspiron 5406 14\" FHD Touch Display 2in1 ...</td>\n",
       "      <td>4.3 out of 5</td>\n",
       "      <td>₹ 86,990.00</td>\n",
       "    </tr>\n",
       "    <tr>\n",
       "      <th>19</th>\n",
       "      <td>LifeDigital ZED AIR CX7 15.6 IPS FHD Screen Bl...</td>\n",
       "      <td>No ratings</td>\n",
       "      <td>No price</td>\n",
       "    </tr>\n",
       "  </tbody>\n",
       "</table>\n",
       "</div>"
      ],
      "text/plain": [
       "                                                Title        Rating  \\\n",
       "0   Mi Notebook Horizon Edition 14 Intel Core i5-1...  4.3 out of 5   \n",
       "1   (Renewed) HP ZBook 15 G3 Mobile Workstation - ...    No ratings   \n",
       "2   HP Pavilion Gaming 11th Gen Intel Core i7 Proc...    No ratings   \n",
       "3   HP Envy 11th Gen Core i7 Processor 13.3-inch F...    No ratings   \n",
       "4   (Renewed) Lenovo Thinkpad Yoga S1 Laptop (CORE...    No ratings   \n",
       "5   ASUS ROG G703GI-E5148T 17.3-inch FHD 144Hz/3ms...    No ratings   \n",
       "6   HP Pavilion Gaming 11th Gen Intel Core i7 Proc...    No ratings   \n",
       "7   (Renewed) HP EliteBook 820 G4 Laptop (CORE I5 ...    1 out of 5   \n",
       "8   ASUS VivoBook S S14 Intel Core i7-1165G7 11th ...  3.9 out of 5   \n",
       "9   Mi Notebook Horizon Edition 14 Intel Core i7-1...    No ratings   \n",
       "10  HP 14 Thin & Light 14-inch FHD Laptop (11th Ge...    No ratings   \n",
       "11  Intel Core I7/16GB Ram/120GB SSD / 2TB Hard Di...  4.3 out of 5   \n",
       "12  Lenovo IdeaPad Flex 5 11th Gen Intel Core i7 1...  4.3 out of 5   \n",
       "13  ASUS TUF Gaming F15, 15.6\" FHD 144Hz, Intel Co...  4.6 out of 5   \n",
       "14  Lenovo IdeaPad Gaming 3 10th Gen Intel Core i7...    No ratings   \n",
       "15  (Renewed) DELL Latitude E6540 15.6-inch Laptop...    5 out of 5   \n",
       "16  MSI GF63 Thin Core i7 9th Gen - (8 GB/512 GB S...  4.5 out of 5   \n",
       "17  Lenovo Legion 5 10th Gen Intel Core i7 15.6 in...    No ratings   \n",
       "18  Dell Inspiron 5406 14\" FHD Touch Display 2in1 ...  4.3 out of 5   \n",
       "19  LifeDigital ZED AIR CX7 15.6 IPS FHD Screen Bl...    No ratings   \n",
       "\n",
       "            Price  \n",
       "0     ₹ 54,999.00  \n",
       "1     ₹ 68,990.00  \n",
       "2     ₹ 89,900.00  \n",
       "3   ₹ 1,32,519.00  \n",
       "4     ₹ 38,990.00  \n",
       "5   ₹ 5,22,077.00  \n",
       "6     ₹ 83,077.00  \n",
       "7     ₹ 36,490.00  \n",
       "8     ₹ 77,990.00  \n",
       "9     ₹ 59,999.00  \n",
       "10    ₹ 76,500.00  \n",
       "11    ₹ 28,999.00  \n",
       "12       No price  \n",
       "13    ₹ 85,990.00  \n",
       "14    ₹ 76,990.00  \n",
       "15    ₹ 38,999.00  \n",
       "16    ₹ 66,990.00  \n",
       "17       No price  \n",
       "18    ₹ 86,990.00  \n",
       "19       No price  "
      ]
     },
     "execution_count": 14,
     "metadata": {},
     "output_type": "execute_result"
    }
   ],
   "source": [
    "df=pd.DataFrame({})\n",
    "df['Title']=title_list[0:20]\n",
    "df['Rating']=Ratings[0:20]\n",
    "df['Price']=pricing[0:20]\n",
    "df"
   ]
  },
  {
   "cell_type": "code",
   "execution_count": 15,
   "metadata": {},
   "outputs": [],
   "source": [
    "driver.close()"
   ]
  },
  {
   "cell_type": "markdown",
   "metadata": {},
   "source": [
    "#### Thankyou"
   ]
  }
 ],
 "metadata": {
  "kernelspec": {
   "display_name": "Python 3",
   "language": "python",
   "name": "python3"
  },
  "language_info": {
   "codemirror_mode": {
    "name": "ipython",
    "version": 3
   },
   "file_extension": ".py",
   "mimetype": "text/x-python",
   "name": "python",
   "nbconvert_exporter": "python",
   "pygments_lexer": "ipython3",
   "version": "3.8.5"
  }
 },
 "nbformat": 4,
 "nbformat_minor": 4
}
